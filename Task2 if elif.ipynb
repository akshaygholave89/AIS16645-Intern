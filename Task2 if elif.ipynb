{
 "cells": [
  {
   "cell_type": "code",
   "execution_count": null,
   "id": "703e88d9-6b7f-4435-9545-23a56d9338a4",
   "metadata": {},
   "outputs": [],
   "source": [
    "#Elif\n",
    "#The elif keyword is Python's way of saying \"if the previous conditions were not true, then try this condition\".\n",
    "#Python supports the usual logical conditions from mathematics:\n",
    "\n",
    "#Equals: a == b\n",
    "#Not Equals: a != b\n",
    "#Less than: a < b\n",
    "#Less than or equal to: a <= b\n",
    "#Greater than: a > b\n",
    "#Greater than or equal to: a >= b\n"
   ]
  },
  {
   "cell_type": "code",
   "execution_count": 2,
   "id": "b4dc9d7e-bc7d-45e8-b56e-cb2ebaac7a0f",
   "metadata": {},
   "outputs": [
    {
     "name": "stdout",
     "output_type": "stream",
     "text": [
      "a and b are equal\n"
     ]
    }
   ],
   "source": [
    "#Example\n",
    "a = 66\n",
    "b = 66\n",
    "if b > a:\n",
    "  print(\"b is greater than a\")\n",
    "elif a == b:\n",
    "  print(\"a and b are equal\")"
   ]
  },
  {
   "cell_type": "code",
   "execution_count": 7,
   "id": "89256765-4397-41fa-befa-2997495ab4b9",
   "metadata": {},
   "outputs": [
    {
     "name": "stdout",
     "output_type": "stream",
     "text": [
      "b is less than a\n"
     ]
    }
   ],
   "source": [
    "#Example\n",
    "a = 45\n",
    "b = 33\n",
    "if b > a:\n",
    "  print(\"b is greater than a\")\n",
    "elif a > b:\n",
    "  print(\"b is less than a\" )"
   ]
  },
  {
   "cell_type": "code",
   "execution_count": 9,
   "id": "9aed729e-e991-47c9-8034-11f0ac16cfd4",
   "metadata": {},
   "outputs": [
    {
     "name": "stdout",
     "output_type": "stream",
     "text": [
      "a is greater than b\n"
     ]
    }
   ],
   "source": [
    "#Example\n",
    "a = 63\n",
    "b = 48\n",
    "if b > a:\n",
    "  print(\"b is greater than a\")\n",
    "elif a > b:\n",
    "  print(\"a is greater than b\" )"
   ]
  },
  {
   "cell_type": "code",
   "execution_count": 11,
   "id": "3bd95e5e-291d-40c1-b32f-5606f3fee6ee",
   "metadata": {},
   "outputs": [
    {
     "name": "stdout",
     "output_type": "stream",
     "text": [
      "b is less than a\n"
     ]
    }
   ],
   "source": [
    "#Example\n",
    "a = 54\n",
    "b = 11\n",
    "if b < a:\n",
    "  print(\"b is less than a\")\n",
    "elif a == b:\n",
    "  print(\"a and b are equal\")"
   ]
  },
  {
   "cell_type": "code",
   "execution_count": 20,
   "id": "14319cb1-0ae4-4c1b-a134-f2ef84aebfee",
   "metadata": {},
   "outputs": [
    {
     "name": "stdout",
     "output_type": "stream",
     "text": [
      "b is greater than a\n"
     ]
    }
   ],
   "source": [
    "#Example\n",
    "a = 45\n",
    "b = 65\n",
    "if b > a:\n",
    "  print(\"b is greater than a\")\n",
    "elif a == b:\n",
    "  print(\"a and b are equal\")"
   ]
  },
  {
   "cell_type": "code",
   "execution_count": 22,
   "id": "afa2edcb-8377-4a94-a1df-c03832d76955",
   "metadata": {},
   "outputs": [
    {
     "name": "stdout",
     "output_type": "stream",
     "text": [
      "a and b are equal\n"
     ]
    }
   ],
   "source": [
    "#Example\n",
    "a = 54\n",
    "b = 54\n",
    "if b > a:\n",
    "  print(\"b is greater than a\")\n",
    "elif a == b:\n",
    "  print(\"a and b are equal\")"
   ]
  },
  {
   "cell_type": "code",
   "execution_count": 25,
   "id": "beea566e-8d50-4adf-b685-65c0ce423d25",
   "metadata": {},
   "outputs": [
    {
     "name": "stdout",
     "output_type": "stream",
     "text": [
      "b is less than a\n"
     ]
    }
   ],
   "source": [
    "#Example\n",
    "a = 98\n",
    "b = 23\n",
    "if b < a:\n",
    "  print(\"b is less than a\")\n",
    "elif a == b:\n",
    "  print(\"a and b are equal\")"
   ]
  },
  {
   "cell_type": "code",
   "execution_count": 27,
   "id": "6a4e1a39-15a0-4e65-9a27-a8b98bed86c0",
   "metadata": {},
   "outputs": [
    {
     "name": "stdout",
     "output_type": "stream",
     "text": [
      "a is not equal to b\n"
     ]
    }
   ],
   "source": [
    "#Example\n",
    "a = 99\n",
    "b = 66\n",
    "if a!=b:\n",
    "  print(\"a is not equal to b\")\n",
    "elif a == b:\n",
    "  print(\"a and b are equal\")"
   ]
  },
  {
   "cell_type": "code",
   "execution_count": 33,
   "id": "840c4d83-d844-4ff1-bb3a-1269e38d0b0c",
   "metadata": {},
   "outputs": [
    {
     "name": "stdout",
     "output_type": "stream",
     "text": [
      "a is greater than b\n"
     ]
    }
   ],
   "source": [
    "#Example\n",
    "a = 92\n",
    "b = 64\n",
    "if a==b:\n",
    "  print(\"a and b are equal\")\n",
    "elif a > b:\n",
    "  print(\"a is greater than b\")"
   ]
  },
  {
   "cell_type": "code",
   "execution_count": 34,
   "id": "cab475d1-106c-44c1-9b8c-8e2fb0ebf91b",
   "metadata": {},
   "outputs": [
    {
     "name": "stdout",
     "output_type": "stream",
     "text": [
      "a is not equal to b\n"
     ]
    }
   ],
   "source": [
    "#Example\n",
    "a = 99\n",
    "b = 66\n",
    "if a!=b:\n",
    "  print(\"a is not equal to b\")\n",
    "elif a == b:\n",
    "  print(\"a and b are equal\")"
   ]
  }
 ],
 "metadata": {
  "kernelspec": {
   "display_name": "Python 3 (ipykernel)",
   "language": "python",
   "name": "python3"
  },
  "language_info": {
   "codemirror_mode": {
    "name": "ipython",
    "version": 3
   },
   "file_extension": ".py",
   "mimetype": "text/x-python",
   "name": "python",
   "nbconvert_exporter": "python",
   "pygments_lexer": "ipython3",
   "version": "3.11.7"
  }
 },
 "nbformat": 4,
 "nbformat_minor": 5
}
