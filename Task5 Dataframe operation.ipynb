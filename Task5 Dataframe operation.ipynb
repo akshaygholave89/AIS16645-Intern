{
 "cells": [
  {
   "cell_type": "code",
   "execution_count": 1,
   "id": "271a02a4-dc54-4b21-b195-3ebb1484236a",
   "metadata": {},
   "outputs": [],
   "source": [
    "#Dataframe operations\n",
    "#Dataframe operations in pandas cover a wide range of functionalities for data manipulation and analysis"
   ]
  },
  {
   "cell_type": "code",
   "execution_count": 10,
   "id": "05302111-6a21-4cde-a16d-b10baf853523",
   "metadata": {},
   "outputs": [
    {
     "name": "stdout",
     "output_type": "stream",
     "text": [
      "C\n",
      "Apple        2\n",
      "Pineapple    1\n",
      "Banana       1\n",
      "orange       1\n",
      "Name: count, dtype: int64\n"
     ]
    }
   ],
   "source": [
    "#Value count(): Counting the occurrences of unique value in a column.\n",
    "import pandas as pd\n",
    "data={'A':[11,23,36,44,57],'B':[57,44,36,23,11],'C':['Pineapple','Apple','Banana','orange','Apple']}\n",
    "df=pd.DataFrame(data)\n",
    "value_counts=df['C'].value_counts()\n",
    "print(value_counts)"
   ]
  },
  {
   "cell_type": "code",
   "execution_count": 14,
   "id": "a792e66a-24bc-471f-804b-7e673f2f2295",
   "metadata": {},
   "outputs": [
    {
     "name": "stdout",
     "output_type": "stream",
     "text": [
      "0    11\n",
      "1    42\n",
      "2    23\n",
      "3    34\n",
      "4    65\n",
      "Name: Number, dtype: int64\n"
     ]
    }
   ],
   "source": [
    "#Apply(): Appling the function along the axis of dataframe.\n",
    "import pandas as pd\n",
    "data={'Number':[11,42,23,34,65]}\n",
    "df=pd.DataFrame(data)\n",
    "def string_to_int(x):\n",
    "    return(x)\n",
    "df['Number']=df['Number'].apply(string_to_int)\n",
    "print(df['Number'])"
   ]
  },
  {
   "cell_type": "code",
   "execution_count": 16,
   "id": "29482552-011c-49c7-a925-94c3e863d0bd",
   "metadata": {},
   "outputs": [
    {
     "name": "stdout",
     "output_type": "stream",
     "text": [
      "[11 23 37]\n",
      "['x' 'y' 'z']\n"
     ]
    }
   ],
   "source": [
    "#unique(): Getting unique values in column.\n",
    "import pandas as pd\n",
    "data={'A':[11,23,37,11,23,37],'B':['x','y','z','x','y','z']}\n",
    "df=pd.DataFrame(data)\n",
    "unique_value_A=df['A'].unique()\n",
    "print(unique_value_A)\n",
    "unique_value_B=df['B'].unique()\n",
    "print(unique_value_B)"
   ]
  },
  {
   "cell_type": "code",
   "execution_count": 18,
   "id": "95f5d97d-e3b1-4847-aef6-c36dcdef4c7d",
   "metadata": {},
   "outputs": [
    {
     "name": "stdout",
     "output_type": "stream",
     "text": [
      "3\n",
      "3\n"
     ]
    }
   ],
   "source": [
    "#nunique(): Counting the number of unique value in column.\n",
    "import pandas as pd\n",
    "data={'A':[17,26,35,17,26,35],'B':['x','y','z','x','y','z']}\n",
    "df=pd.DataFrame(data)\n",
    "num_unique_A=df['A'].nunique()\n",
    "print(num_unique_A)\n",
    "num_unique_B=df['B'].nunique()\n",
    "print(num_unique_B)"
   ]
  },
  {
   "cell_type": "code",
   "execution_count": 21,
   "id": "0945f23f-e457-4087-92ad-713ae51af3f5",
   "metadata": {},
   "outputs": [
    {
     "name": "stdout",
     "output_type": "stream",
     "text": [
      "               A          B\n",
      "count   5.000000   5.000000\n",
      "mean   33.000000  30.000000\n",
      "std    17.392527  15.811388\n",
      "min    11.000000  10.000000\n",
      "25%    22.000000  20.000000\n",
      "50%    33.000000  30.000000\n",
      "75%    44.000000  40.000000\n",
      "max    55.000000  50.000000\n"
     ]
    }
   ],
   "source": [
    "#Describe(): Generate descriptive statistics of the numerical columns in a DataFrame.\n",
    "import pandas as pd\n",
    "data={'A':[11,22,33,44,55],'B':[10,20,30,40,50]}\n",
    "df=pd.DataFrame(data)\n",
    "describe=df.describe()\n",
    "print(describe)"
   ]
  },
  {
   "cell_type": "code",
   "execution_count": 27,
   "id": "fcf46235-1441-45aa-9d98-e5935463e021",
   "metadata": {},
   "outputs": [
    {
     "name": "stdout",
     "output_type": "stream",
     "text": [
      "     student  Maths  Phy  Chem\n",
      "3         Om     60   65    69\n",
      "2     Aakash     75   72    75\n",
      "1      Rahul     80   70    75\n",
      "4     Pratik     90   80    85\n",
      "0  Aniruddha     95   85    88\n"
     ]
    }
   ],
   "source": [
    "#sorting(): sort dataframe based on one or more colums.\n",
    "import pandas as pd\n",
    "data={'student':['Aniruddha','Rahul','Aakash','Om','Pratik'],'Maths':[95,80,75,60,90],'Phy':[85,70,72,65,80],'Chem':[88,75,75,69,85]}\n",
    "df=pd.DataFrame(data)\n",
    "sorted_df=df.sort_values(by='Maths',ascending=True)\n",
    "print(sorted_df)"
   ]
  },
  {
   "cell_type": "code",
   "execution_count": 29,
   "id": "c22e8a07-3a82-4aaa-8cdf-a3398836e75a",
   "metadata": {},
   "outputs": [
    {
     "name": "stdout",
     "output_type": "stream",
     "text": [
      "0    1.0\n",
      "1    3.0\n",
      "2    4.0\n",
      "3    5.0\n",
      "4    2.0\n",
      "Name: Score, dtype: float64\n"
     ]
    }
   ],
   "source": [
    "#Rank():indicating rank\n",
    "import pandas as pd\n",
    "data={'student':['Aniruddha','Rahul','Aakash','Om','Pratik'],'Score':[95,80,75,60,90]}\n",
    "df=pd.DataFrame(data)\n",
    "rank_df=df['Score'].rank(ascending= False)\n",
    "print(rank_df)\n"
   ]
  }
 ],
 "metadata": {
  "kernelspec": {
   "display_name": "Python 3 (ipykernel)",
   "language": "python",
   "name": "python3"
  },
  "language_info": {
   "codemirror_mode": {
    "name": "ipython",
    "version": 3
   },
   "file_extension": ".py",
   "mimetype": "text/x-python",
   "name": "python",
   "nbconvert_exporter": "python",
   "pygments_lexer": "ipython3",
   "version": "3.11.7"
  }
 },
 "nbformat": 4,
 "nbformat_minor": 5
}
