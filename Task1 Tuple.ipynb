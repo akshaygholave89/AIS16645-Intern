{
 "cells": [
  {
   "cell_type": "code",
   "execution_count": null,
   "id": "739c4827-bf19-4d69-a82d-962ea4cdd068",
   "metadata": {},
   "outputs": [],
   "source": [
    "#Tuple\n",
    "Tuples are used to store multiple items in a single variable\n",
    "\n",
    "Tuple is one of 4 built in daa types in python used to store collecions of data,the other 3 are list ,set and Dictionary,all with different qualities\n",
    "\n",
    "A tuple is a collection which is ordered and unchangeable\n",
    "\n",
    "Tuples are written with round brackets"
   ]
  },
  {
   "cell_type": "code",
   "execution_count": 5,
   "id": "69041c55-c691-4f66-bc2c-70e6eb2b9031",
   "metadata": {},
   "outputs": [
    {
     "name": "stdout",
     "output_type": "stream",
     "text": [
      "('Green', 'Orange', 'Yellow')\n"
     ]
    }
   ],
   "source": [
    "tuple=(\"Green\",\"Orange\",\"Yellow\")\n",
    "print(tuple)"
   ]
  },
  {
   "cell_type": "code",
   "execution_count": null,
   "id": "fe04f823-07a0-4fd9-81da-9cfff4440d4f",
   "metadata": {},
   "outputs": [],
   "source": [
    "#Tuple items \n",
    "Tuple items are ordered ,unchangeable and allow duplicate values\n",
    "\n",
    "Tuple items are indexed ,the  first items has index [0] ,the second items has index [1] etc\n",
    "\n",
    "#ordered \n",
    "when we say that tuples are ordered ,it means that the items have a defined order, and that order will not change.\n",
    "\n",
    "#unchangeable\n",
    "Tuples are unchangeable, meaning that we cannot change, add or remove items after the tuple has been created "
   ]
  },
  {
   "cell_type": "code",
   "execution_count": 11,
   "id": "5bd1f8a5-2946-436b-a7bb-bd41ca565840",
   "metadata": {},
   "outputs": [
    {
     "name": "stdout",
     "output_type": "stream",
     "text": [
      "('Green', 'Blue', 'Yellow', 'Red', 'orange')\n"
     ]
    }
   ],
   "source": [
    "#Allows Duplicates \n",
    "#since tuples are indexed ,they can have items with the same value\n",
    "#Tuples allow duplicate values\n",
    "\n",
    "tuple = (\"Green\",\"Blue\",\"Yellow\",\"Red\",\"orange\")\n",
    "print(tuple)"
   ]
  },
  {
   "cell_type": "code",
   "execution_count": 3,
   "id": "362dab8d-5180-4b88-a468-c3e631608a76",
   "metadata": {},
   "outputs": [
    {
     "name": "stdout",
     "output_type": "stream",
     "text": [
      "5\n"
     ]
    }
   ],
   "source": [
    "#Tuple length\n",
    "#To determine how many items a tuple has,use the len() function\n",
    "\n",
    "#Example\n",
    "tuple=(\"Green\",\"Blue\",\"Yellow\",\"Red\",\"Blue\")\n",
    "print(len(tuple))"
   ]
  },
  {
   "cell_type": "code",
   "execution_count": 12,
   "id": "1550503c-b01d-426e-b844-b009c46c9c9d",
   "metadata": {},
   "outputs": [
    {
     "name": "stdout",
     "output_type": "stream",
     "text": [
      "<class 'tuple'>\n",
      "<class 'str'>\n"
     ]
    }
   ],
   "source": [
    "#create Tuple with one item\n",
    "#To create a tuple with only one items,you have to add a comma after the items,otherwise python will not recognize it as a tuple \n",
    "\n",
    "#Example\n",
    "tuple=(\"Blue\",)\n",
    "print(type(tuple))\n",
    "\n",
    "#Not a tuple \n",
    "tuple=(\"Blue\")\n",
    "print(type(tuple))"
   ]
  },
  {
   "cell_type": "code",
   "execution_count": 14,
   "id": "5ad4a468-99dc-4a40-b9b6-fa52a972a46e",
   "metadata": {},
   "outputs": [
    {
     "name": "stdout",
     "output_type": "stream",
     "text": [
      "('Green', 'Blue', 'Yellow')\n",
      "(11, 24, 5, 16, 78)\n",
      "(True, False, False)\n"
     ]
    }
   ],
   "source": [
    "#Tuple Items -Data Types\n",
    "#Tuple items can be of any data types:\n",
    "\n",
    "#Example\n",
    "#string,int and boolean data types:\n",
    "\n",
    "tuple1=(\"Green\",\"Blue\",\"Yellow\")\n",
    "tuple2=(11,24,5,16,78)\n",
    "tuple3=(True,False,False)\n",
    "print(tuple1)\n",
    "print(tuple2)\n",
    "print(tuple3)       "
   ]
  },
  {
   "cell_type": "code",
   "execution_count": 25,
   "id": "2ebe1ccc-f796-455d-bb80-23663a545236",
   "metadata": {},
   "outputs": [
    {
     "name": "stdout",
     "output_type": "stream",
     "text": [
      "('kyc', 22, True, 78, 'sale')\n"
     ]
    }
   ],
   "source": [
    "#A tuple can contain different data types\n",
    "\n",
    "#Example\n",
    "#A tuple with strings, integers and boolean values:\n",
    "\n",
    "tuple = (\"kyc\",22,True,78,\"sale\")\n",
    "print(tuple)"
   ]
  },
  {
   "cell_type": "code",
   "execution_count": 1,
   "id": "afcec9df-e5ba-4f2f-989a-9f702f05fa46",
   "metadata": {},
   "outputs": [
    {
     "name": "stdout",
     "output_type": "stream",
     "text": [
      "<class 'tuple'>\n"
     ]
    }
   ],
   "source": [
    "#type()\n",
    "#From python's perspective, tuple are defined as objects with the data type 'tuple':<class 'tuple>\n",
    "\n",
    "#Example \n",
    "tuple=(\"A\",\"p\",\"Z\")\n",
    "print(type(tuple))"
   ]
  },
  {
   "cell_type": "code",
   "execution_count": 1,
   "id": "5874e7da-c3d4-4119-9650-5c0d977e9d0f",
   "metadata": {},
   "outputs": [
    {
     "name": "stdout",
     "output_type": "stream",
     "text": [
      "('Green', 'Blue', 'Yellow', 'Red', 'orange')\n"
     ]
    }
   ],
   "source": [
    "#The tuple() Constructor\n",
    "#It is also possible to use the tuple() constructor to make a tuple.\n",
    "\n",
    "#Example\n",
    "mytuple= tuple((\"Green\",\"Blue\",\"Yellow\",\"Red\",\"orange\")) # note the double round-bra\n",
    "print(mytuple)"
   ]
  }
 ],
 "metadata": {
  "kernelspec": {
   "display_name": "Python 3 (ipykernel)",
   "language": "python",
   "name": "python3"
  },
  "language_info": {
   "codemirror_mode": {
    "name": "ipython",
    "version": 3
   },
   "file_extension": ".py",
   "mimetype": "text/x-python",
   "name": "python",
   "nbconvert_exporter": "python",
   "pygments_lexer": "ipython3",
   "version": "3.11.7"
  }
 },
 "nbformat": 4,
 "nbformat_minor": 5
}
