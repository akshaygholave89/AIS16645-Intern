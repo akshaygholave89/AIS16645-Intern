{
 "cells": [
  {
   "cell_type": "code",
   "execution_count": 1,
   "id": "dd1869ec-df77-4f8b-bb21-19a4f162a723",
   "metadata": {},
   "outputs": [],
   "source": [
    "# Identifying Missing values :Identify missing values in a DataFrame using the isna() method."
   ]
  },
  {
   "cell_type": "code",
   "execution_count": 5,
   "id": "2cea9103-4673-46be-bca4-7f22bf5a2e0c",
   "metadata": {},
   "outputs": [
    {
     "name": "stdout",
     "output_type": "stream",
     "text": [
      "       A      B\n",
      "0  False   True\n",
      "1  False  False\n",
      "2   True  False\n",
      "3  False  False\n"
     ]
    }
   ],
   "source": [
    "#Example\n",
    "import pandas as pd \n",
    "data = {'A':[11,12,None,14],'B':[None,15,16,17]}\n",
    "df=pd.DataFrame(data)\n",
    "missing_values = df.isna()\n",
    "print(missing_values)"
   ]
  },
  {
   "cell_type": "code",
   "execution_count": 6,
   "id": "9ec327c2-e1ac-43ab-8e60-553be45fe0eb",
   "metadata": {},
   "outputs": [],
   "source": [
    "#Handling Missing values: remove rows or columns containing missing values using dropna() method."
   ]
  },
  {
   "cell_type": "code",
   "execution_count": 8,
   "id": "872aa71c-1a00-4a5b-b522-38e757f2d06f",
   "metadata": {},
   "outputs": [
    {
     "name": "stdout",
     "output_type": "stream",
     "text": [
      "      A     B\n",
      "1  12.0  15.0\n",
      "3  14.0  17.0\n",
      "Empty DataFrame\n",
      "Columns: []\n",
      "Index: [0, 1, 2, 3]\n"
     ]
    }
   ],
   "source": [
    "#Example\n",
    "import pandas as pd \n",
    "data = {'A':[11,12,None,14],'B':[None,15,16,17]}\n",
    "df=pd.DataFrame(data)\n",
    "a=df.dropna() #Remove rows with missing values\n",
    "print(a)\n",
    "b=df.dropna(axis=1) # Remove column with missing values\n",
    "print(b)"
   ]
  },
  {
   "cell_type": "code",
   "execution_count": 9,
   "id": "3d4b1044-8fc7-4809-9244-fd132b674f86",
   "metadata": {},
   "outputs": [],
   "source": [
    "# Filling missing values : using fillna() method"
   ]
  },
  {
   "cell_type": "code",
   "execution_count": 22,
   "id": "790f53fb-a435-40db-9669-5ccd55340636",
   "metadata": {},
   "outputs": [
    {
     "name": "stdout",
     "output_type": "stream",
     "text": [
      "      A     B\n",
      "0  11.0   0.0\n",
      "1  12.0  15.0\n",
      "2   0.0  16.0\n",
      "3  14.0  17.0\n"
     ]
    }
   ],
   "source": [
    "#Example\n",
    "import pandas as pd \n",
    "data = {'A':[11,12,None,14],'B':[None,15,16,17]}\n",
    "df=pd.DataFrame(data)\n",
    "df_filled = df.fillna(0) #fill with 0\n",
    "print(df_filled )"
   ]
  },
  {
   "cell_type": "code",
   "execution_count": 16,
   "id": "e6ecffc9-bd6a-41e4-b3aa-c59c8f1d26af",
   "metadata": {},
   "outputs": [
    {
     "name": "stdout",
     "output_type": "stream",
     "text": [
      "           A     B\n",
      "0  11.000000  16.0\n",
      "1  12.000000  15.0\n",
      "2  12.333333  16.0\n",
      "3  14.000000  17.0\n"
     ]
    }
   ],
   "source": [
    "# fill missing values with mean\n",
    "df_filled = df.fillna(df.mean()) # fill with mean of each column\n",
    "print(df_filled )"
   ]
  },
  {
   "cell_type": "code",
   "execution_count": 24,
   "id": "8aa62ee9-6a42-496d-98fb-4ee4e988582a",
   "metadata": {},
   "outputs": [
    {
     "name": "stdout",
     "output_type": "stream",
     "text": [
      "      A     B\n",
      "0  11.0  16.0\n",
      "1  12.0  15.0\n",
      "2  12.0  16.0\n",
      "3  14.0  17.0\n"
     ]
    }
   ],
   "source": [
    "#fill missing values with median\n",
    "df_filled = df.fillna(df.median())\n",
    "print(df_filled)"
   ]
  }
 ],
 "metadata": {
  "kernelspec": {
   "display_name": "Python 3 (ipykernel)",
   "language": "python",
   "name": "python3"
  },
  "language_info": {
   "codemirror_mode": {
    "name": "ipython",
    "version": 3
   },
   "file_extension": ".py",
   "mimetype": "text/x-python",
   "name": "python",
   "nbconvert_exporter": "python",
   "pygments_lexer": "ipython3",
   "version": "3.11.7"
  }
 },
 "nbformat": 4,
 "nbformat_minor": 5
}
