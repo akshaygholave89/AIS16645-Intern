{
 "cells": [
  {
   "cell_type": "code",
   "execution_count": 3,
   "id": "6ea429d5-cd2f-4fba-bda4-c79ab81f38e4",
   "metadata": {},
   "outputs": [
    {
     "name": "stdout",
     "output_type": "stream",
     "text": [
      "1\n",
      "2\n",
      "3\n",
      "4\n",
      "5\n"
     ]
    }
   ],
   "source": [
    "#The while Loop\n",
    "#With the while loop we can execute a set of statements as long as a condition is true.\n",
    "\n",
    "#Example:\n",
    "i = 1\n",
    "while i < 6:\n",
    "  print(i)\n",
    "  i += 1"
   ]
  },
  {
   "cell_type": "code",
   "execution_count": 1,
   "id": "de4f8020-99f4-414c-9458-983b4bbf8147",
   "metadata": {},
   "outputs": [
    {
     "name": "stdout",
     "output_type": "stream",
     "text": [
      "25\n",
      "31\n",
      "37\n",
      "43\n",
      "49\n",
      "55\n",
      "61\n",
      "67\n",
      "73\n"
     ]
    }
   ],
   "source": [
    "#Example:\n",
    "i = 25\n",
    "while i <=73:\n",
    "  print(i)\n",
    "  i += 6"
   ]
  },
  {
   "cell_type": "code",
   "execution_count": 11,
   "id": "57aa0117-8636-4bc2-8d76-b0a560c87bc9",
   "metadata": {},
   "outputs": [
    {
     "name": "stdout",
     "output_type": "stream",
     "text": [
      "1\n",
      "2\n",
      "3\n"
     ]
    }
   ],
   "source": [
    "#The break Statement\n",
    "#With the break statement we can stop the loop even if the while condition is true:\n",
    "\n",
    "#Example\n",
    "i = 1\n",
    "while i < 6:\n",
    "  print(i)\n",
    "  if i == 3:\n",
    "    break\n",
    "  i += 1"
   ]
  },
  {
   "cell_type": "code",
   "execution_count": 6,
   "id": "6ea9c1e0-055a-4498-b32f-e09ec4a4f232",
   "metadata": {},
   "outputs": [
    {
     "name": "stdout",
     "output_type": "stream",
     "text": [
      "8\n",
      "16\n",
      "24\n",
      "32\n",
      "40\n",
      "48\n",
      "56\n"
     ]
    }
   ],
   "source": [
    "#Example\n",
    "i = 8\n",
    "while i <=56:\n",
    "  print(i)\n",
    "  if i == 13:\n",
    "    break\n",
    "  i += 8"
   ]
  },
  {
   "cell_type": "code",
   "execution_count": 18,
   "id": "3a3b575e-3cc9-4edc-9925-8d9d75697f8e",
   "metadata": {},
   "outputs": [
    {
     "name": "stdout",
     "output_type": "stream",
     "text": [
      "1\n",
      "2\n",
      "4\n",
      "5\n",
      "6\n"
     ]
    }
   ],
   "source": [
    "#The continue Statement\n",
    "#With the continue statement we can stop the current iteration, and continue with the next:\n",
    "\n",
    "#Example\n",
    "i = 0\n",
    "while i < 6:\n",
    "  i += 1\n",
    "  if i == 3:\n",
    "    continue\n",
    "  print(i)"
   ]
  },
  {
   "cell_type": "code",
   "execution_count": 11,
   "id": "aefd62df-287b-4a1c-abfd-21a1a2c4d305",
   "metadata": {},
   "outputs": [
    {
     "name": "stdout",
     "output_type": "stream",
     "text": [
      "5\n",
      "9\n",
      "11\n",
      "13\n",
      "15\n"
     ]
    }
   ],
   "source": [
    "#Example\n",
    "i = 3\n",
    "while i <15:\n",
    "  i += 2\n",
    "  if i == 7:\n",
    "    continue\n",
    "  print(i)"
   ]
  },
  {
   "cell_type": "code",
   "execution_count": null,
   "id": "1586d72a-7db8-4084-b7ec-c3b4c0439149",
   "metadata": {},
   "outputs": [],
   "source": []
  }
 ],
 "metadata": {
  "kernelspec": {
   "display_name": "Python 3 (ipykernel)",
   "language": "python",
   "name": "python3"
  },
  "language_info": {
   "codemirror_mode": {
    "name": "ipython",
    "version": 3
   },
   "file_extension": ".py",
   "mimetype": "text/x-python",
   "name": "python",
   "nbconvert_exporter": "python",
   "pygments_lexer": "ipython3",
   "version": "3.11.7"
  }
 },
 "nbformat": 4,
 "nbformat_minor": 5
}
