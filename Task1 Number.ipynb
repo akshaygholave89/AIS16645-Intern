{
 "cells": [
  {
   "cell_type": "code",
   "execution_count": null,
   "id": "ffb796c1-973f-40a1-bd2d-cfeffbc151ef",
   "metadata": {},
   "outputs": [],
   "source": [
    "#There are three numeric types in python\n",
    "# int\n",
    "# float\n",
    "# complex\n",
    "\n",
    "#Example\n",
    "x=6     # int\n",
    "y=9.5   # float\n",
    "z= 6j   # complex\n",
    "\n",
    "# To verify the type of any object use the type() function\n",
    "print(type(x))\n",
    "print(type(y))\n",
    "print(type(z))"
   ]
  },
  {
   "cell_type": "code",
   "execution_count": 3,
   "id": "cf413f8c-f362-4d77-b737-8404a54cc3bf",
   "metadata": {},
   "outputs": [
    {
     "name": "stdout",
     "output_type": "stream",
     "text": [
      "<class 'int'>\n",
      "<class 'int'>\n",
      "<class 'int'>\n"
     ]
    }
   ],
   "source": [
    "#Int\n",
    "#Int,or, integer, is a whole number , positive or negative , without decimals ,of unlimited length \n",
    "\n",
    "#Example\n",
    "x=5\n",
    "y=237627622274\n",
    "z=-23762762274\n",
    "print(type(x))\n",
    "print(type(y))\n",
    "print(type(z))"
   ]
  },
  {
   "cell_type": "code",
   "execution_count": 5,
   "id": "3ec1a3d0-87bd-438a-98a6-89bd1353eb64",
   "metadata": {},
   "outputs": [
    {
     "name": "stdout",
     "output_type": "stream",
     "text": [
      "<class 'float'>\n",
      "<class 'float'>\n",
      "<class 'float'>\n"
     ]
    }
   ],
   "source": [
    "#Float\n",
    "#float, or \"floating point number \" is a number ,positive or negative ,containing one or more decimals\n",
    "\n",
    "#Example\n",
    "x=7.6\n",
    "y=2.3\n",
    "z=-42.6\n",
    "print(type(x))\n",
    "print(type(y))\n",
    "print(type(z))\n"
   ]
  },
  {
   "cell_type": "code",
   "execution_count": 7,
   "id": "43151973-05d1-480c-b0fd-364f86fa3553",
   "metadata": {},
   "outputs": [
    {
     "name": "stdout",
     "output_type": "stream",
     "text": [
      "<class 'float'>\n",
      "<class 'float'>\n",
      "<class 'float'>\n"
     ]
    }
   ],
   "source": [
    "# float can also be scientific numbers with an \"e\" to indicate the power of 10\n",
    "#Example \n",
    "x=65e4\n",
    "y=25E2\n",
    "z=-87.6e100\n",
    "print(type(x))\n",
    "print(type(y))\n",
    "print(type(z))"
   ]
  },
  {
   "cell_type": "code",
   "execution_count": 9,
   "id": "8fc72830-328f-4fff-a633-a15d93604852",
   "metadata": {},
   "outputs": [
    {
     "name": "stdout",
     "output_type": "stream",
     "text": [
      "<class 'complex'>\n",
      "<class 'complex'>\n",
      "<class 'complex'>\n"
     ]
    }
   ],
   "source": [
    "#complex \n",
    "#complex numbers are written with a \"j\" as the imaginary part\n",
    "#Example\n",
    "x=4+3j\n",
    "y=5j\n",
    "z=-5j\n",
    "print(type(x))\n",
    "print(type(y))\n",
    "print(type(z))"
   ]
  },
  {
   "cell_type": "code",
   "execution_count": 11,
   "id": "c97ef666-61ac-4986-89be-f3e939de3d95",
   "metadata": {},
   "outputs": [
    {
     "name": "stdout",
     "output_type": "stream",
     "text": [
      "<class 'float'>\n",
      "<class 'int'>\n",
      "<class 'complex'>\n"
     ]
    }
   ],
   "source": [
    "#Type conversion \n",
    "#convert from one type to another with the int(),float() and complex() methods:\n",
    "#Example\n",
    "x=6     # int\n",
    "y=9.5   # float\n",
    "z= 6j   # complex\n",
    "\n",
    "#convert from int to float:\n",
    "a=float(x)\n",
    "\n",
    "#convert from float to int:\n",
    "b=int(y)\n",
    "\n",
    "#convert from int to complex:\n",
    "c=complex(x)\n",
    "\n",
    "print(type(a))\n",
    "print(type(b))\n",
    "print(type(c))\n"
   ]
  },
  {
   "cell_type": "code",
   "execution_count": 14,
   "id": "08a2945b-a750-424b-9eed-c8973e4a51c9",
   "metadata": {},
   "outputs": [
    {
     "name": "stdout",
     "output_type": "stream",
     "text": [
      "7\n"
     ]
    }
   ],
   "source": [
    "#Random Number\n",
    "#python does not have a random() function to make a random number ,by python has a built-in module called random that can be used to make random numbers\n",
    "\n",
    "#Example \n",
    "#Import the random module, and display a random number between 1 and 7\n",
    "\n",
    "import random\n",
    "\n",
    "print(random.randrange(1,9))"
   ]
  }
 ],
 "metadata": {
  "kernelspec": {
   "display_name": "Python 3 (ipykernel)",
   "language": "python",
   "name": "python3"
  },
  "language_info": {
   "codemirror_mode": {
    "name": "ipython",
    "version": 3
   },
   "file_extension": ".py",
   "mimetype": "text/x-python",
   "name": "python",
   "nbconvert_exporter": "python",
   "pygments_lexer": "ipython3",
   "version": "3.11.7"
  }
 },
 "nbformat": 4,
 "nbformat_minor": 5
}
