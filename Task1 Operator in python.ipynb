{
 "cells": [
  {
   "cell_type": "code",
   "execution_count": 1,
   "id": "f488a176-410e-46fe-a285-73d1f90d2089",
   "metadata": {},
   "outputs": [],
   "source": [
    "#----------Operators in Python---------------------\n",
    "#Arithmatic Operator(+,-,*,/,**(power),%(modulus))\n",
    "#Assingment Operator +=, -=,*=\n",
    "#Comparision Operator(>,<,==,!=,<=,>=)\n",
    "#Logical Operator(And,Or,Not)\n",
    "#Identity Operators(is,is not)\n",
    "#Membership Operators(in,not in)\n"
   ]
  },
  {
   "cell_type": "code",
   "execution_count": 4,
   "id": "e2078291-d849-4f42-8c9c-1915eec03248",
   "metadata": {},
   "outputs": [
    {
     "data": {
      "text/plain": [
       "23"
      ]
     },
     "execution_count": 4,
     "metadata": {},
     "output_type": "execute_result"
    }
   ],
   "source": [
    "#Arithmatic Operator(+,-,*,/,**(power),%(modulus))\n",
    "20+3"
   ]
  },
  {
   "cell_type": "code",
   "execution_count": 6,
   "id": "c72faeb2-f2e9-4cef-b0a7-cb52c5add059",
   "metadata": {},
   "outputs": [
    {
     "data": {
      "text/plain": [
       "23"
      ]
     },
     "execution_count": 6,
     "metadata": {},
     "output_type": "execute_result"
    }
   ],
   "source": [
    "26-3"
   ]
  },
  {
   "cell_type": "code",
   "execution_count": 8,
   "id": "4d8db82f-a082-4eb6-8048-b1d29c65aef2",
   "metadata": {},
   "outputs": [
    {
     "data": {
      "text/plain": [
       "60"
      ]
     },
     "execution_count": 8,
     "metadata": {},
     "output_type": "execute_result"
    }
   ],
   "source": [
    "20*3"
   ]
  },
  {
   "cell_type": "code",
   "execution_count": 10,
   "id": "bf616eaf-18db-437f-b18f-98138f159ce4",
   "metadata": {},
   "outputs": [
    {
     "data": {
      "text/plain": [
       "11.0"
      ]
     },
     "execution_count": 10,
     "metadata": {},
     "output_type": "execute_result"
    }
   ],
   "source": [
    "22/2"
   ]
  },
  {
   "cell_type": "code",
   "execution_count": 13,
   "id": "2e374ab0-16cd-4dce-8522-ed7eb03b4133",
   "metadata": {},
   "outputs": [
    {
     "data": {
      "text/plain": [
       "125"
      ]
     },
     "execution_count": 13,
     "metadata": {},
     "output_type": "execute_result"
    }
   ],
   "source": [
    "5**3"
   ]
  },
  {
   "cell_type": "code",
   "execution_count": 15,
   "id": "c7472cce-e2bb-432b-8a81-00efacffa46f",
   "metadata": {},
   "outputs": [
    {
     "data": {
      "text/plain": [
       "8"
      ]
     },
     "execution_count": 15,
     "metadata": {},
     "output_type": "execute_result"
    }
   ],
   "source": [
    "8%100"
   ]
  },
  {
   "cell_type": "code",
   "execution_count": 17,
   "id": "937e1f8d-cb3c-4353-bf4b-3c390d3b4a44",
   "metadata": {},
   "outputs": [
    {
     "name": "stdout",
     "output_type": "stream",
     "text": [
      "105\n"
     ]
    }
   ],
   "source": [
    "#Assingment operators (+=,-=,*=,/=)\n",
    "x=100\n",
    "x+=5\n",
    "print(x)\n"
   ]
  },
  {
   "cell_type": "code",
   "execution_count": 18,
   "id": "17386bde-4eec-4805-bd89-a9ddbb846b1a",
   "metadata": {},
   "outputs": [
    {
     "data": {
      "text/plain": [
       "45"
      ]
     },
     "execution_count": 18,
     "metadata": {},
     "output_type": "execute_result"
    }
   ],
   "source": [
    "A=50\n",
    "A-=5\n",
    "A"
   ]
  },
  {
   "cell_type": "code",
   "execution_count": 19,
   "id": "43421bf8-f4e9-41d2-a558-a8ec3d2cd667",
   "metadata": {},
   "outputs": [],
   "source": [
    "A*=2"
   ]
  },
  {
   "cell_type": "code",
   "execution_count": 21,
   "id": "58c656ef-2961-4387-8203-8f421bedc729",
   "metadata": {},
   "outputs": [
    {
     "data": {
      "text/plain": [
       "90"
      ]
     },
     "execution_count": 21,
     "metadata": {},
     "output_type": "execute_result"
    }
   ],
   "source": [
    "A"
   ]
  },
  {
   "cell_type": "code",
   "execution_count": 22,
   "id": "ab5a154f-090f-4ef6-a46c-d52c3b3aa549",
   "metadata": {},
   "outputs": [],
   "source": [
    "A/=2"
   ]
  },
  {
   "cell_type": "code",
   "execution_count": 24,
   "id": "3c1c74d0-ffda-43b3-88b9-5bd13bdbe696",
   "metadata": {},
   "outputs": [
    {
     "data": {
      "text/plain": [
       "45.0"
      ]
     },
     "execution_count": 24,
     "metadata": {},
     "output_type": "execute_result"
    }
   ],
   "source": [
    "A"
   ]
  },
  {
   "cell_type": "code",
   "execution_count": 26,
   "id": "0e6a50ba-1fee-4394-aced-6d792a507d43",
   "metadata": {},
   "outputs": [
    {
     "data": {
      "text/plain": [
       "True"
      ]
     },
     "execution_count": 26,
     "metadata": {},
     "output_type": "execute_result"
    }
   ],
   "source": [
    "#comparision Operators(<,>,==,!=,<=,>=)\n",
    "15<18"
   ]
  },
  {
   "cell_type": "code",
   "execution_count": 28,
   "id": "3752cc85-e29d-405e-a25b-2ed84b099573",
   "metadata": {},
   "outputs": [
    {
     "data": {
      "text/plain": [
       "True"
      ]
     },
     "execution_count": 28,
     "metadata": {},
     "output_type": "execute_result"
    }
   ],
   "source": [
    "18>8"
   ]
  },
  {
   "cell_type": "code",
   "execution_count": 30,
   "id": "606dd863-cd4f-4a8d-a483-04918211338e",
   "metadata": {},
   "outputs": [
    {
     "data": {
      "text/plain": [
       "True"
      ]
     },
     "execution_count": 30,
     "metadata": {},
     "output_type": "execute_result"
    }
   ],
   "source": [
    "6==6"
   ]
  },
  {
   "cell_type": "code",
   "execution_count": 32,
   "id": "ff17e6a1-21a9-426b-8fe5-d8152dce7ef7",
   "metadata": {},
   "outputs": [
    {
     "data": {
      "text/plain": [
       "True"
      ]
     },
     "execution_count": 32,
     "metadata": {},
     "output_type": "execute_result"
    }
   ],
   "source": [
    "15!=22"
   ]
  },
  {
   "cell_type": "code",
   "execution_count": 34,
   "id": "1cdf56dc-3c65-4b79-8056-97a38c582b59",
   "metadata": {},
   "outputs": [
    {
     "data": {
      "text/plain": [
       "True"
      ]
     },
     "execution_count": 34,
     "metadata": {},
     "output_type": "execute_result"
    }
   ],
   "source": [
    "12<=13"
   ]
  },
  {
   "cell_type": "code",
   "execution_count": 36,
   "id": "8ec0bab3-92f9-4329-aae7-356a0aeeb4ec",
   "metadata": {},
   "outputs": [
    {
     "data": {
      "text/plain": [
       "True"
      ]
     },
     "execution_count": 36,
     "metadata": {},
     "output_type": "execute_result"
    }
   ],
   "source": [
    "14>=11"
   ]
  },
  {
   "cell_type": "code",
   "execution_count": 41,
   "id": "efdb1ba2-072c-435c-ba0f-4c8d8433650f",
   "metadata": {},
   "outputs": [
    {
     "data": {
      "text/plain": [
       "True"
      ]
     },
     "execution_count": 41,
     "metadata": {},
     "output_type": "execute_result"
    }
   ],
   "source": [
    "#Logical Operator(And,Or,Not)\n",
    "#And-Returns True if both statements are true\n",
    "x=10;\n",
    "x<12 or x<15"
   ]
  },
  {
   "cell_type": "code",
   "execution_count": 43,
   "id": "45a1979f-e66c-423a-9624-0f8dd28ca73c",
   "metadata": {},
   "outputs": [
    {
     "data": {
      "text/plain": [
       "True"
      ]
     },
     "execution_count": 43,
     "metadata": {},
     "output_type": "execute_result"
    }
   ],
   "source": [
    "#Or-Returns True if one of the statements is true\n",
    "x=25;\n",
    "x<22 or x<28"
   ]
  },
  {
   "cell_type": "code",
   "execution_count": 46,
   "id": "a44889b5-4fd0-4c09-b5e0-6803eb2846eb",
   "metadata": {},
   "outputs": [
    {
     "data": {
      "text/plain": [
       "True"
      ]
     },
     "execution_count": 46,
     "metadata": {},
     "output_type": "execute_result"
    }
   ],
   "source": [
    "#not-Reverse the result, returns False if the result is true\n",
    "x=15;\n",
    "not(x<18 and x<11)"
   ]
  },
  {
   "cell_type": "code",
   "execution_count": 47,
   "id": "d51276dd-777b-4c9c-819f-cc928cd82863",
   "metadata": {},
   "outputs": [],
   "source": [
    "#Identity Operators(is,is is,is not)\n",
    "x=40"
   ]
  },
  {
   "cell_type": "code",
   "execution_count": 49,
   "id": "f90925a3-0a89-4a1e-8b84-93739a3206a4",
   "metadata": {},
   "outputs": [
    {
     "name": "stderr",
     "output_type": "stream",
     "text": [
      "<>:1: SyntaxWarning: \"is\" with a literal. Did you mean \"==\"?\n",
      "<>:1: SyntaxWarning: \"is\" with a literal. Did you mean \"==\"?\n",
      "C:\\Users\\Yeshwant\\AppData\\Local\\Temp\\ipykernel_5016\\774089632.py:1: SyntaxWarning: \"is\" with a literal. Did you mean \"==\"?\n",
      "  x is 40\n"
     ]
    },
    {
     "data": {
      "text/plain": [
       "True"
      ]
     },
     "execution_count": 49,
     "metadata": {},
     "output_type": "execute_result"
    }
   ],
   "source": [
    "x is 40"
   ]
  },
  {
   "cell_type": "code",
   "execution_count": 51,
   "id": "b32e2708-1900-4d15-8e34-68d46ca87a54",
   "metadata": {},
   "outputs": [
    {
     "name": "stderr",
     "output_type": "stream",
     "text": [
      "<>:1: SyntaxWarning: \"is not\" with a literal. Did you mean \"!=\"?\n",
      "<>:1: SyntaxWarning: \"is not\" with a literal. Did you mean \"!=\"?\n",
      "C:\\Users\\Yeshwant\\AppData\\Local\\Temp\\ipykernel_5016\\3261728853.py:1: SyntaxWarning: \"is not\" with a literal. Did you mean \"!=\"?\n",
      "  x is not 40\n"
     ]
    },
    {
     "data": {
      "text/plain": [
       "False"
      ]
     },
     "execution_count": 51,
     "metadata": {},
     "output_type": "execute_result"
    }
   ],
   "source": [
    "x is not 40"
   ]
  },
  {
   "cell_type": "code",
   "execution_count": 52,
   "id": "0c74126a-38f9-463e-b967-9881c7b83305",
   "metadata": {},
   "outputs": [],
   "source": [
    "#Membership Operators(in,not in)\n",
    "x=(11,5,34,76,89,90)"
   ]
  },
  {
   "cell_type": "code",
   "execution_count": 53,
   "id": "5d101dff-47dd-42f3-970b-e7537c374e84",
   "metadata": {},
   "outputs": [
    {
     "data": {
      "text/plain": [
       "True"
      ]
     },
     "execution_count": 53,
     "metadata": {},
     "output_type": "execute_result"
    }
   ],
   "source": [
    "76 in x"
   ]
  },
  {
   "cell_type": "code",
   "execution_count": 54,
   "id": "f4048858-9cea-43c2-abb9-4477a2c78582",
   "metadata": {},
   "outputs": [
    {
     "data": {
      "text/plain": [
       "True"
      ]
     },
     "execution_count": 54,
     "metadata": {},
     "output_type": "execute_result"
    }
   ],
   "source": [
    "55 not in x"
   ]
  }
 ],
 "metadata": {
  "kernelspec": {
   "display_name": "Python 3 (ipykernel)",
   "language": "python",
   "name": "python3"
  },
  "language_info": {
   "codemirror_mode": {
    "name": "ipython",
    "version": 3
   },
   "file_extension": ".py",
   "mimetype": "text/x-python",
   "name": "python",
   "nbconvert_exporter": "python",
   "pygments_lexer": "ipython3",
   "version": "3.11.7"
  }
 },
 "nbformat": 4,
 "nbformat_minor": 5
}
