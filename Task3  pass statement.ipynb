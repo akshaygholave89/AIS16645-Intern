{
 "cells": [
  {
   "cell_type": "code",
   "execution_count": null,
   "id": "cdd9255b-d517-4e19-b572-a0100b364c9e",
   "metadata": {},
   "outputs": [],
   "source": [
    "#pass Statement\n",
    "#The pass statement is used as a placeholder for future code.\n",
    "#When the pass statement is executed, nothing happens, but you avoid getting an error when empty code is not allowed.\n",
    "#Empty code is not allowed in loops, function definitions, class definitions, or in if statements.\n",
    "\n"
   ]
  },
  {
   "cell_type": "code",
   "execution_count": null,
   "id": "15f47182-e4c9-4574-be10-5edada20742b",
   "metadata": {},
   "outputs": [],
   "source": [
    "#Example 1\n",
    "#Using the pass keyword in a function definition:\n",
    "\n",
    "def myfunction():\n",
    "  pass\n"
   ]
  },
  {
   "cell_type": "code",
   "execution_count": 7,
   "id": "9c4f8433-b678-4e53-a8bb-2a042f66f890",
   "metadata": {},
   "outputs": [],
   "source": [
    "#Example 2\n",
    "#Using the pass keyword in a class definition:\n",
    "\n",
    "a = 33\n",
    "b = 200\n",
    "\n",
    "if b > a:\n",
    "  pass"
   ]
  },
  {
   "cell_type": "code",
   "execution_count": null,
   "id": "dda0c2e4-1b27-4b7e-8b69-983619f68bd7",
   "metadata": {},
   "outputs": [],
   "source": [
    "#Example 3 \n",
    "\n",
    "for x in [0, 1, 2]:\n",
    "  pass"
   ]
  },
  {
   "cell_type": "code",
   "execution_count": 3,
   "id": "6f26bd01-0f3a-4dbf-a8f8-098af170eac8",
   "metadata": {},
   "outputs": [
    {
     "name": "stdout",
     "output_type": "stream",
     "text": [
      "0\n",
      "1\n",
      "2\n",
      "3\n",
      "4\n",
      "5\n"
     ]
    }
   ],
   "source": [
    "#Example\n",
    "for i in range(9): \n",
    "     if i < 6:\n",
    "         print(i)\n",
    "         pass"
   ]
  }
 ],
 "metadata": {
  "kernelspec": {
   "display_name": "Python 3 (ipykernel)",
   "language": "python",
   "name": "python3"
  },
  "language_info": {
   "codemirror_mode": {
    "name": "ipython",
    "version": 3
   },
   "file_extension": ".py",
   "mimetype": "text/x-python",
   "name": "python",
   "nbconvert_exporter": "python",
   "pygments_lexer": "ipython3",
   "version": "3.11.7"
  }
 },
 "nbformat": 4,
 "nbformat_minor": 5
}
