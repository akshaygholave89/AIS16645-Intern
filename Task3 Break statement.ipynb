{
 "cells": [
  {
   "cell_type": "code",
   "execution_count": 2,
   "id": "f8664b7f-d2c2-4b32-8517-b18dcd6898f6",
   "metadata": {},
   "outputs": [
    {
     "name": "stdout",
     "output_type": "stream",
     "text": [
      "apple\n",
      "banana\n",
      "cherry\n",
      "mango\n"
     ]
    }
   ],
   "source": [
    "#The break Statement\n",
    "#With the break statement we can stop the loop before it has looped through all the items:\n",
    "\n",
    "#Example\n",
    "fruits = [\"apple\", \"banana\", \"cherry\",\"mango\",\"orange\"]\n",
    "for x in fruits:\n",
    "  print(x)\n",
    "  if x == \"mango\":\n",
    "    break"
   ]
  },
  {
   "cell_type": "code",
   "execution_count": 4,
   "id": "f5958ec4-03e9-40af-b359-16412b6e66cc",
   "metadata": {},
   "outputs": [
    {
     "name": "stdout",
     "output_type": "stream",
     "text": [
      "mauli\n",
      "mukunda\n",
      "nikhil\n"
     ]
    }
   ],
   "source": [
    "#Example\n",
    "friends = [\"mauli\", \"mukunda\", \"nikhil\",\"ajinkya\",\"rohan\"]\n",
    "for x in friends:\n",
    "  print(x)\n",
    "  if x == \"nikhil\":\n",
    "    break"
   ]
  },
  {
   "cell_type": "code",
   "execution_count": 6,
   "id": "293f41fc-b52b-48da-814e-919133a4e625",
   "metadata": {},
   "outputs": [
    {
     "name": "stdout",
     "output_type": "stream",
     "text": [
      "BMW\n",
      "Audi\n",
      "maruti\n",
      "mercedes\n"
     ]
    }
   ],
   "source": [
    "#Example\n",
    "cars = [\"BMW\", \"Audi\", \"maruti\",\"mercedes\",\"swift\"]\n",
    "for x in cars:\n",
    "  print(x)\n",
    "  if x == \"mercedes\":\n",
    "    break"
   ]
  },
  {
   "cell_type": "code",
   "execution_count": 8,
   "id": "193b7e61-e7e7-40cb-9f9d-953e69edcf3a",
   "metadata": {},
   "outputs": [
    {
     "name": "stdout",
     "output_type": "stream",
     "text": [
      "pune\n",
      "mumbai\n",
      "solapur\n"
     ]
    }
   ],
   "source": [
    "#Example\n",
    "cities = [\"pune\", \"mumbai\", \"solapur\",\"Thane\",\"stara\"]\n",
    "for x in cities:\n",
    "  if x == \"Thane\":\n",
    "    break\n",
    "  print(x)"
   ]
  }
 ],
 "metadata": {
  "kernelspec": {
   "display_name": "Python 3 (ipykernel)",
   "language": "python",
   "name": "python3"
  },
  "language_info": {
   "codemirror_mode": {
    "name": "ipython",
    "version": 3
   },
   "file_extension": ".py",
   "mimetype": "text/x-python",
   "name": "python",
   "nbconvert_exporter": "python",
   "pygments_lexer": "ipython3",
   "version": "3.11.7"
  }
 },
 "nbformat": 4,
 "nbformat_minor": 5
}
