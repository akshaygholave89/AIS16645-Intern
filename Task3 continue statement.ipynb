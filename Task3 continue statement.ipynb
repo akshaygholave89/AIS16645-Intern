{
 "cells": [
  {
   "cell_type": "code",
   "execution_count": 2,
   "id": "cf04b8f2-6467-4ec1-9380-aac06c5c0bfe",
   "metadata": {},
   "outputs": [
    {
     "name": "stdout",
     "output_type": "stream",
     "text": [
      "1\n",
      "2\n",
      "4\n",
      "5\n",
      "6\n"
     ]
    }
   ],
   "source": [
    "#continue Statement\n",
    "#With the continue statement we can stop the current iteration, and continue with the next:\n",
    "\n",
    "#Example\n",
    "i = 0\n",
    "while i < 6:\n",
    "  i += 1\n",
    "  if i == 3:\n",
    "    continue\n",
    "  print(i)"
   ]
  },
  {
   "cell_type": "code",
   "execution_count": 5,
   "id": "02a4cb8a-0afd-4c57-96ca-99ef31f09788",
   "metadata": {},
   "outputs": [
    {
     "name": "stdout",
     "output_type": "stream",
     "text": [
      "22\n",
      "27\n",
      "32\n",
      "37\n",
      "42\n"
     ]
    }
   ],
   "source": [
    "#Example\n",
    "i = 12\n",
    "while i < 40:\n",
    "  i += 5\n",
    "  if i == 17:\n",
    "    continue\n",
    "  print(i)"
   ]
  },
  {
   "cell_type": "code",
   "execution_count": 6,
   "id": "65cabfd7-5a41-475d-9c2d-b7b4757a77da",
   "metadata": {},
   "outputs": [
    {
     "name": "stdout",
     "output_type": "stream",
     "text": [
      "45\n",
      "49\n",
      "51\n",
      "53\n",
      "55\n",
      "57\n"
     ]
    }
   ],
   "source": [
    "#Example\n",
    "i = 43\n",
    "while i < 57 :\n",
    "  i += 2\n",
    "  if i == 47:\n",
    "    continue\n",
    "  print(i)"
   ]
  }
 ],
 "metadata": {
  "kernelspec": {
   "display_name": "Python 3 (ipykernel)",
   "language": "python",
   "name": "python3"
  },
  "language_info": {
   "codemirror_mode": {
    "name": "ipython",
    "version": 3
   },
   "file_extension": ".py",
   "mimetype": "text/x-python",
   "name": "python",
   "nbconvert_exporter": "python",
   "pygments_lexer": "ipython3",
   "version": "3.11.7"
  }
 },
 "nbformat": 4,
 "nbformat_minor": 5
}
