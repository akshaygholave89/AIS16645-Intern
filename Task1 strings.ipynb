{
 "cells": [
  {
   "cell_type": "code",
   "execution_count": null,
   "id": "b92dc7c6-7fa0-48da-b538-988393741357",
   "metadata": {},
   "outputs": [],
   "source": [
    "#Strings \n",
    "#steings in python are surrounded by either single quotation marks, or double quotation marks \n",
    "\n",
    "#'Hello' is the same as \"Hello\"\n",
    "\n",
    "#A string literal with the print() function\n",
    "\n",
    "print(\"Hello\")\n",
    "print('Hello')"
   ]
  },
  {
   "cell_type": "code",
   "execution_count": 3,
   "id": "1c1beb6d-8d60-42cd-a897-ca61d10f2107",
   "metadata": {},
   "outputs": [
    {
     "name": "stdout",
     "output_type": "stream",
     "text": [
      "It's alright\n",
      "He is tallest person\n",
      "He is tallest person\n"
     ]
    }
   ],
   "source": [
    "#Quotes Inside Quotes\n",
    "#quotes inside a string,as long as they don't match the quotes surrounding the string\n",
    "\n",
    "#Example\n",
    "print(\"It's alright\")\n",
    "print(\"He is tallest person\")\n",
    "print('He is tallest person')\n"
   ]
  },
  {
   "cell_type": "code",
   "execution_count": 5,
   "id": "3e04b70d-12d7-4ec9-b613-fed333bc7d40",
   "metadata": {},
   "outputs": [
    {
     "name": "stdout",
     "output_type": "stream",
     "text": [
      "Hello\n"
     ]
    }
   ],
   "source": [
    "#Assign String to a variable\n",
    "#Assigning a string to a variable is done with the variable name followed by an equal sign and the string\n",
    "\n",
    "#Example\n",
    "a=\"Hello\"\n",
    "print(a)"
   ]
  },
  {
   "cell_type": "code",
   "execution_count": 3,
   "id": "56273b17-e7e5-43c5-a486-73f66e2ad223",
   "metadata": {},
   "outputs": [
    {
     "name": "stdout",
     "output_type": "stream",
     "text": [
      "Lorem ipsum dolor sit amet,\n",
      "   consectetur adipiscing elit,\n",
      "   sed do eiusmod tempor incididuntut\n",
      "   labore et dolore magna aliqua.\n"
     ]
    }
   ],
   "source": [
    "#Multiline strings \n",
    "#Multiline string to a variable by using three quotes\n",
    "\n",
    "#Example\n",
    "a=\"\"\"Lorem ipsum dolor sit amet,\n",
    "   consectetur adipiscing elit,\n",
    "   sed do eiusmod tempor incididuntut\n",
    "   labore et dolore magna aliqua.\"\"\"\n",
    "print(a)"
   ]
  },
  {
   "cell_type": "code",
   "execution_count": null,
   "id": "a03f13ea-fe1b-47c2-80a1-af695522995b",
   "metadata": {},
   "outputs": [],
   "source": [
    "#Strings are Arrays\n",
    "#strings in python are arrays of bytes representing unicode characters However, python does not have  a characters data type , a single character is\n",
    "simply a strings with a length of 1\n",
    "# Square brackets can be used to acess elements of the string "
   ]
  },
  {
   "cell_type": "code",
   "execution_count": 13,
   "id": "b9d1e22a-1419-4ee3-a368-faed2e20df79",
   "metadata": {},
   "outputs": [
    {
     "name": "stdout",
     "output_type": "stream",
     "text": [
      "d\n"
     ]
    }
   ],
   "source": [
    "#Example \n",
    "#Get the character at position 1 ( remember that the first character has the position 0)\n",
    "\n",
    "a=\"India,world!\"\n",
    "print(a[2])"
   ]
  },
  {
   "cell_type": "code",
   "execution_count": 25,
   "id": "f0c93b8d-7dfe-4dcf-934c-f4c462f00aab",
   "metadata": {},
   "outputs": [
    {
     "name": "stdout",
     "output_type": "stream",
     "text": [
      "P\n",
      "i\n",
      "n\n",
      "e\n",
      "a\n",
      "p\n",
      "p\n",
      "l\n",
      "e\n"
     ]
    }
   ],
   "source": [
    "#Looping Through a string\n",
    "#The characters in a string, with a for loop.\n",
    "\n",
    "#Example\n",
    "#Loop through the letters in the word \"Pineapple\":\n",
    "for x in \"Pineapple\":\n",
    " print(x)"
   ]
  },
  {
   "cell_type": "code",
   "execution_count": 27,
   "id": "78bdb54c-5df1-4db3-a912-bd7330b34948",
   "metadata": {},
   "outputs": [
    {
     "name": "stdout",
     "output_type": "stream",
     "text": [
      "13\n"
     ]
    }
   ],
   "source": [
    "#string length\n",
    "#the length of a string, use the len() function\n",
    "\n",
    "#Example\n",
    "#The len() function returns the length of a string:\n",
    "\n",
    "a=\" Mauli,World!\"\n",
    "print(len(a))"
   ]
  },
  {
   "cell_type": "code",
   "execution_count": 29,
   "id": "aca3594d-a7df-4137-aadf-c5d287b3f53d",
   "metadata": {},
   "outputs": [
    {
     "name": "stdout",
     "output_type": "stream",
     "text": [
      "True\n"
     ]
    }
   ],
   "source": [
    "#Check string\n",
    "# if a certain phrase or character is present in a string , we use the keyword in.\n",
    "\n",
    "#Example \n",
    "#check if \"free\" is present in the following text \n",
    "txt=\"The best things in life are free!\"\n",
    "print(\"free\" in txt)"
   ]
  },
  {
   "cell_type": "code",
   "execution_count": 35,
   "id": "45f5be65-901b-432f-b4c0-d3287233d2c1",
   "metadata": {},
   "outputs": [
    {
     "name": "stdout",
     "output_type": "stream",
     "text": [
      "Yes,'free' is present.\n"
     ]
    }
   ],
   "source": [
    "#use it in an if statement\n",
    "\n",
    "#Example\n",
    "#print only if \"free\" is present\n",
    "\n",
    "txt=\"The best things in life are free!\"\n",
    "if \"free\" in txt:\n",
    " print(\"Yes,'free' is present.\")"
   ]
  },
  {
   "cell_type": "code",
   "execution_count": 36,
   "id": "c31600f4-5000-49b3-8d1f-fecf2ed60011",
   "metadata": {},
   "outputs": [
    {
     "name": "stdout",
     "output_type": "stream",
     "text": [
      "True\n"
     ]
    }
   ],
   "source": [
    "#check of NOT\n",
    "#To check if a certain phrase or character is NOT present in a string, we can use the keyword not in\n",
    "\n",
    "#Example\n",
    "#check if \"expensive\" is NOT present in the following text:\n",
    "\n",
    "txt=\"The best things in life are free!\"\n",
    "print(\"expensive\" not in txt  )"
   ]
  }
 ],
 "metadata": {
  "kernelspec": {
   "display_name": "Python 3 (ipykernel)",
   "language": "python",
   "name": "python3"
  },
  "language_info": {
   "codemirror_mode": {
    "name": "ipython",
    "version": 3
   },
   "file_extension": ".py",
   "mimetype": "text/x-python",
   "name": "python",
   "nbconvert_exporter": "python",
   "pygments_lexer": "ipython3",
   "version": "3.11.7"
  }
 },
 "nbformat": 4,
 "nbformat_minor": 5
}
