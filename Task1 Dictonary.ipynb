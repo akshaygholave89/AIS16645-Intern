{
 "cells": [
  {
   "cell_type": "code",
   "execution_count": 17,
   "id": "7d2ea6b1-ddc8-488b-8a5a-92d7108735d8",
   "metadata": {},
   "outputs": [
    {
     "name": "stdout",
     "output_type": "stream",
     "text": [
      "{'brand': 'Ford', 'model': 'Mustang', 'year': 1964}\n"
     ]
    }
   ],
   "source": [
    "#Dictionary\n",
    "#Dictionaries are used to store data values in key:value pairs.\n",
    "\n",
    "#A dictionary is a collection which is ordered*, changeable and do not allow duplicates.\n",
    "\n",
    "#As of Python version 3.7, dictionaries are ordered. In Python 3.6 and earlier, dictionaries are unordered.\n",
    "\n",
    "#Dictionaries are written with curly brackets, and have keys and values:\n",
    "\n",
    "#Example\n",
    "dict = {\n",
    "  \"brand\": \"Ford\",\n",
    "  \"model\": \"Mustang\",\n",
    "  \"year\": 1964\n",
    "}\n",
    "print(dict)"
   ]
  },
  {
   "cell_type": "code",
   "execution_count": 19,
   "id": "e2b341bf-c799-45a7-9e51-ec070388987a",
   "metadata": {},
   "outputs": [
    {
     "name": "stdout",
     "output_type": "stream",
     "text": [
      "Ford\n"
     ]
    }
   ],
   "source": [
    "#Dictionary Items\n",
    "#Dictionary items are ordered, changeable, and do not allow duplicates.\n",
    "\n",
    "#Dictionary items are presented in key:value pairs, and can be referred to by using the key name.\n",
    "\n",
    "#Example\n",
    "dict = {\n",
    "  \"brand\": \"Ford\",\n",
    "  \"model\": \"Mustang\",\n",
    "  \"year\": 1964\n",
    "}\n",
    "print(dict[\"brand\"])\n"
   ]
  },
  {
   "cell_type": "code",
   "execution_count": 7,
   "id": "5073a139-265a-4bcc-9d17-38b4cb8aa08c",
   "metadata": {},
   "outputs": [],
   "source": [
    "#Ordered or Unordered?\n",
    "#When we say that dictionaries are ordered, it means that the items have a defined order, and that order will not change.\n",
    "#Unordered means that the items do not have a defined order, you cannot refer to an item by using an index.\n",
    "\n",
    "#Changeable\n",
    "#Dictionaries are changeable, meaning that we can change, add or remove items after the dictionary has been created.\n"
   ]
  },
  {
   "cell_type": "code",
   "execution_count": 20,
   "id": "b73249bd-ef46-4e45-982c-397023554e6a",
   "metadata": {},
   "outputs": [
    {
     "name": "stdout",
     "output_type": "stream",
     "text": [
      "{'brand': 'Ford', 'model': 'Mustang', 'year': 1964}\n"
     ]
    }
   ],
   "source": [
    "#Duplicates Not Allowed\n",
    "#Dictionaries cannot have two items with the same key:\n",
    "\n",
    "#Example\n",
    "dict = {\n",
    " \"brand\": \"Ford\",\n",
    "  \"model\": \"Mustang\",\n",
    "  \"year\": 1964\n",
    "}\n",
    "print(dict)"
   ]
  },
  {
   "cell_type": "code",
   "execution_count": 22,
   "id": "f11acdab-18fe-4778-aa5d-838888edf749",
   "metadata": {},
   "outputs": [
    {
     "name": "stdout",
     "output_type": "stream",
     "text": [
      "3\n"
     ]
    }
   ],
   "source": [
    "#Dictionary Length\n",
    "#To determine how many items a dictionary has, use the len() function:\n",
    "\n",
    "#Example\n",
    "print(len(dict))"
   ]
  },
  {
   "cell_type": "code",
   "execution_count": 24,
   "id": "62733349-122b-4180-8bad-81786d8e2192",
   "metadata": {},
   "outputs": [
    {
     "name": "stdout",
     "output_type": "stream",
     "text": [
      "{'brand': 'Ford', 'electric': False, 'year': 1964, 'colors': ['red', 'white', 'blue']}\n"
     ]
    }
   ],
   "source": [
    "#Dictionary Items - Data Types\n",
    "#The values in dictionary items can be of any data type:\n",
    "\n",
    "#Example\n",
    "dict = {\n",
    "  \"brand\": \"Ford\",\n",
    "  \"electric\": False,\n",
    "  \"year\": 1964,\n",
    "  \"colors\": [\"red\", \"white\", \"blue\"]\n",
    "}\n",
    "print(dict)"
   ]
  },
  {
   "cell_type": "code",
   "execution_count": 2,
   "id": "0fea0ab5-28e1-49ef-b1f6-98699eece5cb",
   "metadata": {},
   "outputs": [
    {
     "name": "stdout",
     "output_type": "stream",
     "text": [
      "<class 'dict'>\n"
     ]
    }
   ],
   "source": [
    "#type()\n",
    "#From Python's perspective, dictionaries are defined as objects with the data type 'dict':\n",
    "\n",
    "#Example\n",
    "dict = {\n",
    "  \"brand\": \"Ford\",\n",
    "  \"model\": \"Mustang\",\n",
    "  \"year\": 1964\n",
    "}\n",
    "print(type(dict))"
   ]
  },
  {
   "cell_type": "code",
   "execution_count": 1,
   "id": "8a194b7d-b709-4cbb-95dd-e9c6ae4ec897",
   "metadata": {},
   "outputs": [
    {
     "name": "stdout",
     "output_type": "stream",
     "text": [
      "{'name': 'Akshay', 'age': 26, 'country': 'India'}\n"
     ]
    }
   ],
   "source": [
    "#The dict() Constructor\n",
    "#It is also possible to use the dict() constructor to make a dictionary.\n",
    "\n",
    "#Example\n",
    "thisdict = dict(name = \"Akshay\", age = 26, country = \"India\")\n",
    "print(thisdict)"
   ]
  }
 ],
 "metadata": {
  "kernelspec": {
   "display_name": "Python 3 (ipykernel)",
   "language": "python",
   "name": "python3"
  },
  "language_info": {
   "codemirror_mode": {
    "name": "ipython",
    "version": 3
   },
   "file_extension": ".py",
   "mimetype": "text/x-python",
   "name": "python",
   "nbconvert_exporter": "python",
   "pygments_lexer": "ipython3",
   "version": "3.11.7"
  }
 },
 "nbformat": 4,
 "nbformat_minor": 5
}
