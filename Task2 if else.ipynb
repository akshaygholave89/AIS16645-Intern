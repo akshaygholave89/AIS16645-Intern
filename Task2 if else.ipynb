{
 "cells": [
  {
   "cell_type": "markdown",
   "id": "a2a2ea4e-adc4-41f3-8e3d-09bec8276d11",
   "metadata": {},
   "source": [
    "#Else\n",
    "#The else keyword catches anything which isn't caught by the preceding conditions.\n",
    "#Equals: a == b\n",
    "#Not Equals: a != b\n",
    "#Less than: a < b\n",
    "#Less than or equal to: a <= b\n",
    "#Greater than: a > b\n",
    "#Greater than or equal to: a >= b"
   ]
  },
  {
   "cell_type": "code",
   "execution_count": 3,
   "id": "3e1b96ac-7263-41e7-93ef-bc914d9e66b9",
   "metadata": {},
   "outputs": [
    {
     "name": "stdout",
     "output_type": "stream",
     "text": [
      "b is greater than a\n"
     ]
    }
   ],
   "source": [
    "#Example\n",
    "a = 20\n",
    "b = 33\n",
    "if b > a:\n",
    "  print(\"b is greater than a\")\n",
    "else:\n",
    "  print(\"b is not greater than a\")"
   ]
  },
  {
   "cell_type": "code",
   "execution_count": 3,
   "id": "29f539eb-6c28-465d-afab-be6e9dfab3ff",
   "metadata": {},
   "outputs": [
    {
     "name": "stdout",
     "output_type": "stream",
     "text": [
      "sum is correct\n"
     ]
    }
   ],
   "source": [
    "#Example\n",
    "a = 20\n",
    "b = 33\n",
    "if b+a==53:\n",
    "  print(\"sum is correct\")\n",
    "else:\n",
    "  print(\"sum is not correct\")"
   ]
  },
  {
   "cell_type": "code",
   "execution_count": 6,
   "id": "adcdb1da-65af-4b10-bb91-c5b099189406",
   "metadata": {},
   "outputs": [
    {
     "name": "stdout",
     "output_type": "stream",
     "text": [
      "a is greater than b\n"
     ]
    }
   ],
   "source": [
    "#Example\n",
    "a = 76\n",
    "b = 33\n",
    "if b < a:\n",
    "  print(\"a is greater than b\")\n",
    "else:\n",
    "  print(\"a is less than b\")"
   ]
  },
  {
   "cell_type": "code",
   "execution_count": 8,
   "id": "3813645a-b986-4d4c-a2d9-de611c7e82b2",
   "metadata": {},
   "outputs": [
    {
     "name": "stdout",
     "output_type": "stream",
     "text": [
      "a and b are equal\n"
     ]
    }
   ],
   "source": [
    "#Example\n",
    "a = 33\n",
    "b = 33\n",
    "if b==a:\n",
    "  print(\"a and b are equal\")\n",
    "else:\n",
    "  print(\"a and b are not equal\")"
   ]
  },
  {
   "cell_type": "code",
   "execution_count": 11,
   "id": "674ceb83-7c25-4b58-be14-84336f193f45",
   "metadata": {},
   "outputs": [
    {
     "name": "stdout",
     "output_type": "stream",
     "text": [
      "a and b are not equal\n"
     ]
    }
   ],
   "source": [
    "#Example\n",
    "a = 33\n",
    "b = 73\n",
    "if a!=b:\n",
    "  print(\"a and b are not equal\")\n",
    "else:\n",
    "  print(\"a and b are equal\")"
   ]
  },
  {
   "cell_type": "code",
   "execution_count": 13,
   "id": "2a1f2107-1e0e-4139-9adf-372279781acd",
   "metadata": {},
   "outputs": [
    {
     "name": "stdout",
     "output_type": "stream",
     "text": [
      "sum is not correct\n"
     ]
    }
   ],
   "source": [
    "#Example\n",
    "a = 25\n",
    "b = 35\n",
    "if b+a==53:\n",
    "  print(\"sum is correct\")\n",
    "else:\n",
    "  print(\"sum is not correct\")"
   ]
  },
  {
   "cell_type": "code",
   "execution_count": 27,
   "id": "5d8245b5-c7b0-4e24-a847-658f1c0f40a4",
   "metadata": {},
   "outputs": [
    {
     "name": "stdout",
     "output_type": "stream",
     "text": [
      "a is less than equal to b \n"
     ]
    }
   ],
   "source": [
    "#Example\n",
    "a = 52\n",
    "b =54 \n",
    "if a<=b :\n",
    "  print(\"a is less than equal to b \")\n",
    "else:\n",
    "  print(\"a is greater than equal to b\")"
   ]
  },
  {
   "cell_type": "code",
   "execution_count": 28,
   "id": "e0280acd-4c0f-47f1-9e45-a90c04eccddc",
   "metadata": {},
   "outputs": [
    {
     "name": "stdout",
     "output_type": "stream",
     "text": [
      "a is greater than equal to b \n"
     ]
    }
   ],
   "source": [
    "#Example\n",
    "a = 55\n",
    "b = 33\n",
    "if a>=b:\n",
    "  print(\"a is greater than equal to b \")\n",
    "else:\n",
    "  print(\"a is less than equal to b\")"
   ]
  },
  {
   "cell_type": "code",
   "execution_count": 32,
   "id": "0baa639f-a71b-4906-9e5a-fbb11957bcd9",
   "metadata": {},
   "outputs": [
    {
     "name": "stdout",
     "output_type": "stream",
     "text": [
      "a and b are not equal\n"
     ]
    }
   ],
   "source": [
    "#Example\n",
    "a = 33\n",
    "b = 73\n",
    "if a!=b:\n",
    "  print(\"a and b are not equal\")\n",
    "else:\n",
    "  print(\"a and b are equal\")"
   ]
  },
  {
   "cell_type": "code",
   "execution_count": 2,
   "id": "7605a5c4-5392-44d8-adcb-1e51c2e15696",
   "metadata": {},
   "outputs": [
    {
     "name": "stdout",
     "output_type": "stream",
     "text": [
      "a is greater than b\n"
     ]
    }
   ],
   "source": [
    "#Example\n",
    "a = 72\n",
    "b = 30\n",
    "if b < a:\n",
    "  print(\"a is greater than b\")\n",
    "else:\n",
    "  print(\"a is less than b\")"
   ]
  }
 ],
 "metadata": {
  "kernelspec": {
   "display_name": "Python 3 (ipykernel)",
   "language": "python",
   "name": "python3"
  },
  "language_info": {
   "codemirror_mode": {
    "name": "ipython",
    "version": 3
   },
   "file_extension": ".py",
   "mimetype": "text/x-python",
   "name": "python",
   "nbconvert_exporter": "python",
   "pygments_lexer": "ipython3",
   "version": "3.11.7"
  }
 },
 "nbformat": 4,
 "nbformat_minor": 5
}
