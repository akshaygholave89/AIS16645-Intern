{
 "cells": [
  {
   "cell_type": "code",
   "execution_count": 19,
   "id": "96551820-782e-4db5-8bf4-8f45ff9abe7a",
   "metadata": {},
   "outputs": [],
   "source": [
    " # A variable can have a short name (e.g x and y) \n",
    "# or a more descriptive name (e.g age, carname, total_volume)"
   ]
  },
  {
   "cell_type": "code",
   "execution_count": null,
   "id": "f95cee31-4b02-40b8-8894-22d9da33ea36",
   "metadata": {},
   "outputs": [],
   "source": [
    "#variables Naming Rules\n",
    "A variable name must start with a letter or the underscore character\n",
    "A variable name cannot start with a number\n",
    "A variable name can only contain alpha-numeric characters and underscores (A-z, 0-9, and _ )\n",
    "Variable names are case-sensitive (age, Age and AGE are three different variables)\n",
    "A variable name cannot be any of the Python keywords."
   ]
  },
  {
   "cell_type": "code",
   "execution_count": 23,
   "id": "85fede7c-df41-44a2-89f7-c68cc690cad4",
   "metadata": {},
   "outputs": [
    {
     "name": "stdout",
     "output_type": "stream",
     "text": [
      "Name_of_person\n",
      "Akshay\n"
     ]
    }
   ],
   "source": [
    "#Example\n",
    "x= \"Name_of_person\"\n",
    "y=\"Akshay\"\n",
    "print(x)\n",
    "print(y)"
   ]
  },
  {
   "cell_type": "code",
   "execution_count": null,
   "id": "66b62a90-cf5c-42d0-a868-ca3b1e80e1d8",
   "metadata": {},
   "outputs": [],
   "source": [
    "#Multi Words Variable Names\n",
    "#Camel Case\n",
    "#Each word, except the first , starts with a capital letter\n",
    "myName=\" Akshay\"\n"
   ]
  },
  {
   "cell_type": "code",
   "execution_count": 4,
   "id": "836a712b-f38d-4fa1-85d2-2e218c4e24c3",
   "metadata": {},
   "outputs": [],
   "source": [
    "#Pascal Case \n",
    "# Each word starts with a capital letter\n",
    "MyName=\"Akshay\""
   ]
  },
  {
   "cell_type": "code",
   "execution_count": 5,
   "id": "fadcf7b5-af38-453d-99a7-477846a3fcfa",
   "metadata": {},
   "outputs": [],
   "source": [
    "#snake case\n",
    "# Each word is separated by an underscore character:\n",
    "my_name=\"Akshay\""
   ]
  },
  {
   "cell_type": "code",
   "execution_count": 6,
   "id": "2bb56b27-c691-485e-a67e-95c9bfd754de",
   "metadata": {},
   "outputs": [
    {
     "name": "stdout",
     "output_type": "stream",
     "text": [
      "Blue\n",
      "green\n",
      "Pink\n"
     ]
    }
   ],
   "source": [
    "#many values to multiple variables\n",
    "#Example\n",
    "x,y,z=\"Blue\",\"green\",\"Pink\"\n",
    "print(x)\n",
    "print(y)\n",
    "print(z)"
   ]
  }
 ],
 "metadata": {
  "kernelspec": {
   "display_name": "Python 3 (ipykernel)",
   "language": "python",
   "name": "python3"
  },
  "language_info": {
   "codemirror_mode": {
    "name": "ipython",
    "version": 3
   },
   "file_extension": ".py",
   "mimetype": "text/x-python",
   "name": "python",
   "nbconvert_exporter": "python",
   "pygments_lexer": "ipython3",
   "version": "3.11.7"
  }
 },
 "nbformat": 4,
 "nbformat_minor": 5
}
