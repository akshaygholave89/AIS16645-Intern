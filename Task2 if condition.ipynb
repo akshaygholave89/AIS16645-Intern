{
 "cells": [
  {
   "cell_type": "code",
   "execution_count": 1,
   "id": "cce17b6a-86b4-4bc1-bd2b-8e3a6dfd6e19",
   "metadata": {},
   "outputs": [],
   "source": [
    "#Conditions and If statements\n",
    "#Python supports the usual logical conditions from mathematics:\n",
    "\n",
    "#Equals: a == b\n",
    "#Not Equals: a != b\n",
    "#Less than: a < b\n",
    "#Less than or equal to: a <= b\n",
    "#Greater than: a > b\n",
    "#Greater than or equal to: a >= b\n",
    "#These conditions can be used in several ways, most commonly in \"if statements\" and loops."
   ]
  },
  {
   "cell_type": "code",
   "execution_count": 7,
   "id": "97e67124-66cb-4fda-abae-8b923d776dc5",
   "metadata": {},
   "outputs": [
    {
     "name": "stdout",
     "output_type": "stream",
     "text": [
      "a is equal to b\n"
     ]
    }
   ],
   "source": [
    "#Example\n",
    "\n",
    "a = 25\n",
    "b = 25\n",
    "if a == b:\n",
    "  print(\"a is equal to b\")"
   ]
  },
  {
   "cell_type": "code",
   "execution_count": 8,
   "id": "ae20d1ff-52f2-4274-b3cb-bdd5625a1a4f",
   "metadata": {},
   "outputs": [
    {
     "name": "stdout",
     "output_type": "stream",
     "text": [
      "a is not equal to b\n"
     ]
    }
   ],
   "source": [
    "#Example\n",
    "\n",
    "a = 25\n",
    "b = 35\n",
    "if a != b:\n",
    "  print(\"a is not equal to b\")"
   ]
  },
  {
   "cell_type": "code",
   "execution_count": 13,
   "id": "25d8c344-6102-4882-9adf-07f3bb683b8c",
   "metadata": {},
   "outputs": [
    {
     "name": "stdout",
     "output_type": "stream",
     "text": [
      "a is less than to b\n"
     ]
    }
   ],
   "source": [
    "#Example\n",
    "\n",
    "a = 25\n",
    "b = 65\n",
    "if a<b:\n",
    "  print(\"a is less than to b\")"
   ]
  },
  {
   "cell_type": "code",
   "execution_count": 15,
   "id": "bf158c57-d882-425f-a902-6a4b95856bcb",
   "metadata": {},
   "outputs": [
    {
     "name": "stdout",
     "output_type": "stream",
     "text": [
      "a is less than equal to b\n"
     ]
    }
   ],
   "source": [
    "#Example\n",
    "\n",
    "a = 25\n",
    "b = 55\n",
    "if a<=b:\n",
    "  print(\"a is less than equal to b\")"
   ]
  },
  {
   "cell_type": "code",
   "execution_count": 17,
   "id": "06103cde-5b39-413d-adc9-2ddd7a46042d",
   "metadata": {},
   "outputs": [
    {
     "name": "stdout",
     "output_type": "stream",
     "text": [
      "a is greater than to b\n"
     ]
    }
   ],
   "source": [
    "#Example\n",
    "\n",
    "a = 65\n",
    "b = 15\n",
    "if a>b:\n",
    "  print(\"a is greater than to b\")"
   ]
  },
  {
   "cell_type": "code",
   "execution_count": 19,
   "id": "8e840be4-bf7e-4c4f-bed8-805c1acb77bc",
   "metadata": {},
   "outputs": [
    {
     "name": "stdout",
     "output_type": "stream",
     "text": [
      "a is greater than equal to b\n"
     ]
    }
   ],
   "source": [
    "#Example\n",
    "\n",
    "a = 55\n",
    "b = 25\n",
    "if a>=b:\n",
    "  print(\"a is greater than equal to b\")"
   ]
  },
  {
   "cell_type": "code",
   "execution_count": 21,
   "id": "aa4734f0-92d8-4306-8a5a-5f0f61de4a4f",
   "metadata": {},
   "outputs": [
    {
     "name": "stdout",
     "output_type": "stream",
     "text": [
      "a is equal to b\n"
     ]
    }
   ],
   "source": [
    "a = 55\n",
    "b = 55\n",
    "if a == b:\n",
    "  print(\"a is equal to b\")"
   ]
  },
  {
   "cell_type": "code",
   "execution_count": 23,
   "id": "c5f5f219-8596-478e-ba5d-edfbe3fa322f",
   "metadata": {},
   "outputs": [
    {
     "name": "stdout",
     "output_type": "stream",
     "text": [
      "a is less than equal to b\n"
     ]
    }
   ],
   "source": [
    "#Example\n",
    "\n",
    "a = 35\n",
    "b = 64\n",
    "if a<=b:\n",
    "  print(\"a is less than equal to b\")"
   ]
  },
  {
   "cell_type": "code",
   "execution_count": 25,
   "id": "8dfb3cd2-383d-49c8-b3ba-edb9b0807763",
   "metadata": {},
   "outputs": [
    {
     "name": "stdout",
     "output_type": "stream",
     "text": [
      "a is not equal to b\n"
     ]
    }
   ],
   "source": [
    "#Example\n",
    "\n",
    "a = 68\n",
    "b = 49\n",
    "if a != b:\n",
    "  print(\"a is not equal to b\")"
   ]
  },
  {
   "cell_type": "code",
   "execution_count": 26,
   "id": "a0398df8-2b19-45c4-aa07-46bd5341af6a",
   "metadata": {},
   "outputs": [
    {
     "name": "stdout",
     "output_type": "stream",
     "text": [
      "a is greater than to b\n"
     ]
    }
   ],
   "source": [
    "#Example\n",
    "\n",
    "a =87\n",
    "b = 26\n",
    "if a>b:\n",
    "  print(\"a is greater than to b\")"
   ]
  }
 ],
 "metadata": {
  "kernelspec": {
   "display_name": "Python 3 (ipykernel)",
   "language": "python",
   "name": "python3"
  },
  "language_info": {
   "codemirror_mode": {
    "name": "ipython",
    "version": 3
   },
   "file_extension": ".py",
   "mimetype": "text/x-python",
   "name": "python",
   "nbconvert_exporter": "python",
   "pygments_lexer": "ipython3",
   "version": "3.11.7"
  }
 },
 "nbformat": 4,
 "nbformat_minor": 5
}
