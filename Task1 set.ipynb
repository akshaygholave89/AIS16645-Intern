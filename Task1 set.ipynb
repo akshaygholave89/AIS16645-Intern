{
 "cells": [
  {
   "cell_type": "code",
   "execution_count": 11,
   "id": "5a736ed6-35f9-4094-acfe-d80ab340a282",
   "metadata": {},
   "outputs": [
    {
     "name": "stdout",
     "output_type": "stream",
     "text": [
      "{'pineapple', 'mango', 'orange'}\n"
     ]
    }
   ],
   "source": [
    "#Set\n",
    "#Sets are used to store multiple items in a single variable.\n",
    "\n",
    "#Set is one of 4 built-in data types in Python used to store collections of data, the other 3 are List, Tuple, and Dictionary, all with different qualities and usage.\n",
    "\n",
    "#A set is a collection which is unordered, unchangeable*, and unindexed.\n",
    "\n",
    "#Example\n",
    "set = {\"mango\", \"pineapple\", \"orange\"}\n",
    "print(set)"
   ]
  },
  {
   "cell_type": "code",
   "execution_count": null,
   "id": "e545192a-f2fb-4273-a13f-99e38ac27315",
   "metadata": {},
   "outputs": [],
   "source": [
    "#Set Items\n",
    "Set items are unordered, unchangeable, and do not allow duplicate values.\n",
    "\n",
    "#Unordered\n",
    "Unordered means that the items in a set do not have a defined order.\n",
    "\n",
    "Set items can appear in a different order every time you use them, and cannot be referred to by index or key.\n",
    "\n",
    "#Unchangeable\n",
    "Set items are unchangeable, meaning that we cannot change the items after the set has been created.\n",
    "    \n"
   ]
  },
  {
   "cell_type": "code",
   "execution_count": 10,
   "id": "1d948a98-2cb0-441a-ade5-d01ef87737fd",
   "metadata": {},
   "outputs": [
    {
     "name": "stdout",
     "output_type": "stream",
     "text": [
      "{'pineapple', 'mango', 'orange', 'apple'}\n"
     ]
    }
   ],
   "source": [
    "#Duplicates Not Allowed\n",
    "#Sets cannot have two items with the same value.\n",
    "\n",
    "#Example\n",
    "set = {\"mango\", \"pineapple\", \"orange\", \"apple\"}\n",
    "print(set)"
   ]
  },
  {
   "cell_type": "code",
   "execution_count": 9,
   "id": "a07b637d-0ad2-4d55-80b8-0264e61cf9ae",
   "metadata": {},
   "outputs": [
    {
     "name": "stdout",
     "output_type": "stream",
     "text": [
      "{True, 2, 'mango', 'pineapple', 'orange'}\n"
     ]
    }
   ],
   "source": [
    "#The values True and 1 are considered the same value in sets, and are treated as duplicates:\n",
    "\n",
    "#Example\n",
    "set = {\"mango\", \"pineapple\", \"orange\", True, 1, 2}\n",
    "print(set)"
   ]
  },
  {
   "cell_type": "code",
   "execution_count": 8,
   "id": "53649768-33ec-4baa-9374-6eaf55f97095",
   "metadata": {},
   "outputs": [
    {
     "name": "stdout",
     "output_type": "stream",
     "text": [
      "{False, True, 'pineapple', 'mango', 'orange'}\n"
     ]
    }
   ],
   "source": [
    "#The values False and 0 are considered the same value in sets, and are treated as duplicates:\n",
    "\n",
    "#Example\n",
    "set = {\"mango\", \"pineapple\", \"orange\", False, True, 0}\n",
    "print(set)"
   ]
  },
  {
   "cell_type": "code",
   "execution_count": 7,
   "id": "b9cbf515-045a-451d-b3d4-2381240376e3",
   "metadata": {},
   "outputs": [
    {
     "name": "stdout",
     "output_type": "stream",
     "text": [
      "3\n"
     ]
    }
   ],
   "source": [
    "#Get the Length of a Set\n",
    "#To determine how many items a set has, use the len() function.\n",
    "\n",
    "#Example\n",
    "set = {\"mango\", \"pineapple\", \"orange\"}\n",
    "print(len(set))"
   ]
  },
  {
   "cell_type": "code",
   "execution_count": 6,
   "id": "0b33683c-390d-4aae-ad48-3ac5667c28a9",
   "metadata": {},
   "outputs": [
    {
     "name": "stdout",
     "output_type": "stream",
     "text": [
      "{'pineapple', 'mango', 'orange'}\n",
      "{83, 21, 39, 57, 15}\n",
      "{False, True}\n"
     ]
    }
   ],
   "source": [
    "#Set Items - Data Types\n",
    "#Set items can be of any data type:\n",
    "#String, int and boolean data types\n",
    "\n",
    "#Example\n",
    "set1 = {\"mango\", \"pineapple\", \"orange\"}\n",
    "set2 = {21, 15, 57, 39, 83}\n",
    "set3 = {True, False, False}\n",
    "print(set1)\n",
    "print(set2)\n",
    "print(set3)"
   ]
  },
  {
   "cell_type": "code",
   "execution_count": 19,
   "id": "f12453e1-b38e-4007-bb41-2c4a22f059d0",
   "metadata": {},
   "outputs": [
    {
     "name": "stdout",
     "output_type": "stream",
     "text": [
      "{80, True, 'sale', 'kyc', 74}\n"
     ]
    }
   ],
   "source": [
    "#A set can contain different data types:\n",
    "#A set with strings, integers and boolean values:\n",
    "\n",
    "#Example\n",
    "set = {\"kyc\", 74, True, 80, \"sale\"}\n",
    "print(set)"
   ]
  },
  {
   "cell_type": "code",
   "execution_count": 5,
   "id": "92516aa8-6a8a-4415-895e-e73abeae2836",
   "metadata": {},
   "outputs": [
    {
     "name": "stdout",
     "output_type": "stream",
     "text": [
      "<class 'set'>\n"
     ]
    }
   ],
   "source": [
    "#type()\n",
    "#From Python's perspective, sets are defined as objects with the data type 'set':\n",
    "\n",
    "#Example=\n",
    "set = {\"mango\", \"pineapple\", \"orange\"}\n",
    "print(type(set))\n"
   ]
  },
  {
   "cell_type": "code",
   "execution_count": 4,
   "id": "cca4fcd5-3aa5-4a44-a7a2-158f6443f724",
   "metadata": {},
   "outputs": [
    {
     "name": "stdout",
     "output_type": "stream",
     "text": [
      "{'banana', 'cherry', 'apple'}\n"
     ]
    }
   ],
   "source": [
    "#The set() Constructor\n",
    "#It is also possible to use the set() constructor to make a set.\n",
    "\n",
    "#Example\n",
    "set = set((\"apple\", \"banana\", \"cherry\")) # note the double round-brackets\n",
    "print(set)"
   ]
  }
 ],
 "metadata": {
  "kernelspec": {
   "display_name": "Python 3 (ipykernel)",
   "language": "python",
   "name": "python3"
  },
  "language_info": {
   "codemirror_mode": {
    "name": "ipython",
    "version": 3
   },
   "file_extension": ".py",
   "mimetype": "text/x-python",
   "name": "python",
   "nbconvert_exporter": "python",
   "pygments_lexer": "ipython3",
   "version": "3.11.7"
  }
 },
 "nbformat": 4,
 "nbformat_minor": 5
}
