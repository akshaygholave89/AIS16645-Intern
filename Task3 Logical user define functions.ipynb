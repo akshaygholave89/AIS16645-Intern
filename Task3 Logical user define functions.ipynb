{
 "cells": [
  {
   "cell_type": "code",
   "execution_count": 5,
   "id": "03d4c260-8561-4aea-9b00-c377f7089714",
   "metadata": {},
   "outputs": [
    {
     "name": "stdin",
     "output_type": "stream",
     "text": [
      "Enter a number: 30\n"
     ]
    },
    {
     "name": "stdout",
     "output_type": "stream",
     "text": [
      "The number isEven.\n"
     ]
    }
   ],
   "source": [
    "# Odd Even\n",
    "def odd_even(num):\n",
    "    if num % 2 ==0:\n",
    "        return(\"Even\")\n",
    "    else:\n",
    "        return(\"Odd\")\n",
    "num=int(input(\"Enter a number:\"))\n",
    "print(f\"The number is{odd_even(num)}.\")"
   ]
  },
  {
   "cell_type": "code",
   "execution_count": 9,
   "id": "e4f14152-f7aa-49c2-893c-5d4dead9ff43",
   "metadata": {},
   "outputs": [
    {
     "name": "stdin",
     "output_type": "stream",
     "text": [
      "Enter a number:  75.6\n"
     ]
    },
    {
     "name": "stdout",
     "output_type": "stream",
     "text": [
      "The grades for score is :C.\n"
     ]
    }
   ],
   "source": [
    "#Grades\n",
    "def grades(score):\n",
    "    if score >= 90:\n",
    "        return(\"A\")\n",
    "    elif score >= 80:\n",
    "        return(\"B\")\n",
    "    elif score >=70:\n",
    "        return(\"C\")\n",
    "    elif score >=60:\n",
    "        return(\"D\")\n",
    "    else:\n",
    "        return(\"F\")\n",
    "score=float(input(\"Enter a number: \"))\n",
    "print(f\"The grades for score is :{grades(score)}.\")\n",
    "            "
   ]
  },
  {
   "cell_type": "code",
   "execution_count": 11,
   "id": "8a3c2098-d5a5-472f-b535-9c50e60e8864",
   "metadata": {},
   "outputs": [
    {
     "name": "stdin",
     "output_type": "stream",
     "text": [
      "Enter a number to calculate its factorial : 6\n"
     ]
    },
    {
     "name": "stdout",
     "output_type": "stream",
     "text": [
      "The factorial of number is :720\n"
     ]
    }
   ],
   "source": [
    "# factorial function \n",
    "def fact(n):\n",
    "    if n == 0:\n",
    "        return(1)\n",
    "    else:\n",
    "        return(n*fact(n-1))\n",
    "n=int(input(\"Enter a number to calculate its factorial :\"))\n",
    "print(f\"The factorial of number is :{fact(n)}\")\n"
   ]
  },
  {
   "cell_type": "code",
   "execution_count": 15,
   "id": "736a945a-0711-489d-ad0c-7945b218ce50",
   "metadata": {},
   "outputs": [
    {
     "name": "stdin",
     "output_type": "stream",
     "text": [
      "Enter number to check if it is perfect square: 625\n"
     ]
    },
    {
     "name": "stdout",
     "output_type": "stream",
     "text": [
      "n is perfect square.\n"
     ]
    }
   ],
   "source": [
    "# Perfect square\n",
    "def perfect_square(n):\n",
    "    if n < 0:\n",
    "        return(\"False\")\n",
    "    sqrt_n = int(n**0.5)\n",
    "    return sqrt_n * sqrt_n == n\n",
    "n=int(input(\"Enter number to check if it is perfect square:\"))\n",
    "if perfect_square(n):\n",
    "    print(f\"n is perfect square.\")\n",
    "else:\n",
    "    print(f\"n is not perfect square.\")"
   ]
  },
  {
   "cell_type": "code",
   "execution_count": 19,
   "id": "877229cd-4bc5-4abe-ae5b-c854c8e7cc57",
   "metadata": {},
   "outputs": [
    {
     "name": "stdin",
     "output_type": "stream",
     "text": [
      "Enter year to check if it is a leap year: 2000\n"
     ]
    },
    {
     "name": "stdout",
     "output_type": "stream",
     "text": [
      "2000 is a leap year.\n"
     ]
    }
   ],
   "source": [
    "#Leaf year\n",
    "def leap_year(year):\n",
    "    if year % 4 == 0:\n",
    "        if year % 100 == 0:\n",
    "            if year % 400 == 0:\n",
    "                return True\n",
    "            else:\n",
    "                return False\n",
    "        else:\n",
    "            return True\n",
    "    else:\n",
    "        return False\n",
    "year=int(input(\"Enter year to check if it is a leap year:\"))\n",
    "if leap_year(year):\n",
    "   print(f\"{year} is a leap year.\")\n",
    "else:\n",
    "  print(f\"{year} is not a leap year.\")\n"
   ]
  },
  {
   "cell_type": "code",
   "execution_count": 22,
   "id": "87723d2b-a7ea-46b2-b799-cf3789857c5c",
   "metadata": {},
   "outputs": [
    {
     "name": "stdout",
     "output_type": "stream",
     "text": [
      "GCD 15 and 6 is: 3\n"
     ]
    }
   ],
   "source": [
    "# Greatest common divissor\n",
    "def gcd(a,b):\n",
    "    while b!=0:\n",
    "        a, b=b, a%b\n",
    "    return a\n",
    "a=15\n",
    "b=6\n",
    "result=gcd(a,b)\n",
    "print(\"GCD\",a,\"and\",b,\"is:\",result)"
   ]
  },
  {
   "cell_type": "code",
   "execution_count": 27,
   "id": "fdd0a002-7fc6-4bfc-a6a0-b01829c29b0d",
   "metadata": {},
   "outputs": [
    {
     "name": "stdout",
     "output_type": "stream",
     "text": [
      "5\n"
     ]
    }
   ],
   "source": [
    "#count the number of vowels in a string\n",
    "def count_vowels(B):\n",
    "    vowels= 'aeiou'\n",
    "    return sum(1 for char in B if char in vowels)\n",
    "B= \"Beautiful sky\"\n",
    "print(count_vowels(B))"
   ]
  },
  {
   "cell_type": "code",
   "execution_count": 33,
   "id": "0b1ae783-e14f-4629-80d4-f80a546a31f5",
   "metadata": {},
   "outputs": [
    {
     "name": "stdout",
     "output_type": "stream",
     "text": [
      "40\n"
     ]
    }
   ],
   "source": [
    "#least common multiple (LCM) of two numbers\n",
    "def lcm(a,b):\n",
    "    return abs(a*b) // gcd(a,b)\n",
    "a=8\n",
    "b=20\n",
    "print(lcm(a,b))"
   ]
  },
  {
   "cell_type": "code",
   "execution_count": 41,
   "id": "690fb3d6-742d-4e0c-9e88-cc8b2887f3af",
   "metadata": {},
   "outputs": [
    {
     "name": "stdin",
     "output_type": "stream",
     "text": [
      "Enter a number:  25\n"
     ]
    },
    {
     "name": "stdout",
     "output_type": "stream",
     "text": [
      " The number is positive.\n"
     ]
    }
   ],
   "source": [
    "# positive number\n",
    "def positive(num):\n",
    "    return num > 0\n",
    "\n",
    "#Example usage:\n",
    "num=float(input(\"Enter a number: \"))\n",
    "if positive(num):\n",
    "   print(\" The number is positive.\")\n",
    "else:\n",
    "   print(\"The number is not positive.\")"
   ]
  },
  {
   "cell_type": "code",
   "execution_count": 43,
   "id": "8dca43d4-6853-43ca-96e4-4781ea0f871f",
   "metadata": {},
   "outputs": [
    {
     "name": "stdin",
     "output_type": "stream",
     "text": [
      "Enter is number : -36\n"
     ]
    },
    {
     "name": "stdout",
     "output_type": "stream",
     "text": [
      "The number is negative.\n"
     ]
    }
   ],
   "source": [
    "# Negative number\n",
    "def negative(num):\n",
    "    return num < 0\n",
    "num=float(input(\"Enter is number :\"))\n",
    "if negative(num):\n",
    "    print(\"The number is negative.\")\n",
    "else:\n",
    "    print(\"The number is not negative. \")"
   ]
  }
 ],
 "metadata": {
  "kernelspec": {
   "display_name": "Python 3 (ipykernel)",
   "language": "python",
   "name": "python3"
  },
  "language_info": {
   "codemirror_mode": {
    "name": "ipython",
    "version": 3
   },
   "file_extension": ".py",
   "mimetype": "text/x-python",
   "name": "python",
   "nbconvert_exporter": "python",
   "pygments_lexer": "ipython3",
   "version": "3.11.7"
  }
 },
 "nbformat": 4,
 "nbformat_minor": 5
}
