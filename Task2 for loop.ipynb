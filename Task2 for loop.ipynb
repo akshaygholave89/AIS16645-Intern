{
 "cells": [
  {
   "cell_type": "code",
   "execution_count": null,
   "id": "8c6ff105-7114-4662-91d5-5012955a1074",
   "metadata": {},
   "outputs": [],
   "source": [
    "#Python for loops\n",
    "#for loop\n",
    "#A for loop is used for iterating over a sequence (that is either a list, a tuple, a dictionary, a set, or a string).\n",
    "\n",
    "This is less like the for keyword in other programming languages, and works more like an iterator method as found in other object-orientated programming languages.\n",
    "\n",
    "With the for loop we can execute a set of statements, once for each item in a list, tuple, set etc."
   ]
  },
  {
   "cell_type": "code",
   "execution_count": 2,
   "id": "5b859ade-e41f-495f-8da8-6835d743d294",
   "metadata": {},
   "outputs": [
    {
     "name": "stdout",
     "output_type": "stream",
     "text": [
      "mango\n",
      "banana\n",
      "pineapple\n",
      "cherry\n"
     ]
    }
   ],
   "source": [
    "#Example\n",
    "fruits = [\"mango\", \"banana\",\"pineapple\", \"cherry\"]\n",
    "for x in fruits:\n",
    "  print(x)\n"
   ]
  },
  {
   "cell_type": "code",
   "execution_count": 13,
   "id": "25d44d1e-112a-4948-b945-995eb44eb17c",
   "metadata": {},
   "outputs": [
    {
     "name": "stdout",
     "output_type": "stream",
     "text": [
      "BMW\n",
      "Audi\n",
      "Maruti\n",
      "Benze\n"
     ]
    }
   ],
   "source": [
    "#Example\n",
    "cars = [\"BMW\", \"Audi\",\"Maruti\",\"Benze\"]\n",
    "for a in cars:\n",
    "  print(a)"
   ]
  },
  {
   "cell_type": "code",
   "execution_count": 22,
   "id": "7bc4437c-0dfa-4691-9602-1bc5a4e42b25",
   "metadata": {},
   "outputs": [],
   "source": [
    "#The break Statement\n",
    "#With the break statement we can stop the loop before it has looped through all the items:"
   ]
  },
  {
   "cell_type": "code",
   "execution_count": 25,
   "id": "173bd1ce-815f-42f8-b418-840d77d783cc",
   "metadata": {},
   "outputs": [
    {
     "name": "stdout",
     "output_type": "stream",
     "text": [
      "apple\n",
      "banana\n",
      "cherry\n"
     ]
    }
   ],
   "source": [
    "#Example\n",
    "fruits = [\"apple\", \"banana\", \"cherry\",\"mango\",\"pineapple\"]\n",
    "for x in fruits:\n",
    "  if x == \"mango\":\n",
    "    break\n",
    "  print(x)"
   ]
  },
  {
   "cell_type": "code",
   "execution_count": 28,
   "id": "41c79419-2f25-4030-9061-84123e7fd33c",
   "metadata": {},
   "outputs": [
    {
     "name": "stdout",
     "output_type": "stream",
     "text": [
      "mauli\n",
      "mukunda\n",
      "ajinkya\n"
     ]
    }
   ],
   "source": [
    "#Example\n",
    "friends = [\"mauli\", \"mukunda\", \"ajinkya\",\"nikhil\",\"rohan\"]\n",
    "for x in friends:\n",
    "  if x == \"nikhil\":\n",
    "    break\n",
    "  print(x)"
   ]
  },
  {
   "cell_type": "code",
   "execution_count": 32,
   "id": "e0bf1e6f-2425-49b5-9c54-60caa6103f90",
   "metadata": {},
   "outputs": [
    {
     "name": "stdout",
     "output_type": "stream",
     "text": [
      "apple\n",
      "banana\n",
      "cherry\n"
     ]
    }
   ],
   "source": [
    "#Example\n",
    "fruits = [\"apple\", \"banana\", \"cherry\",\"mango\",\"pineapple\"]\n",
    "for x in fruits:\n",
    "  print(x)\n",
    "  if x == \"cherry\":\n",
    "    break"
   ]
  },
  {
   "cell_type": "code",
   "execution_count": 34,
   "id": "5a111f77-a939-4cf2-a0a1-11240adde598",
   "metadata": {},
   "outputs": [
    {
     "name": "stdout",
     "output_type": "stream",
     "text": [
      "mango\n",
      "orange\n",
      "apple\n",
      "cherry\n"
     ]
    }
   ],
   "source": [
    "#The continue Statement\n",
    "#With the continue statement we can stop the current iteration of the loop, and continue with the next:\n",
    "\n",
    "#Example\n",
    "fruits = [\"mango\",\"orange\",\"apple\", \"banana\", \"cherry\"]\n",
    "for x in fruits:\n",
    "  if x == \"banana\":\n",
    "    continue\n",
    "  print(x)"
   ]
  },
  {
   "cell_type": "code",
   "execution_count": 39,
   "id": "85a91bbc-aff3-42dc-8b8b-bada2e73a821",
   "metadata": {},
   "outputs": [
    {
     "name": "stdout",
     "output_type": "stream",
     "text": [
      "BMW\n",
      "Audi\n",
      "Maruti\n",
      "mercedes\n"
     ]
    }
   ],
   "source": [
    "#Example\n",
    "cars = [\"BMW\", \"Audi\",\"Maruti\",\"Benze\",\"mercedes\"]\n",
    "for x in cars:\n",
    "  if x == \"Benze\":\n",
    "    continue\n",
    "  print(x)"
   ]
  },
  {
   "cell_type": "code",
   "execution_count": 40,
   "id": "9e3ec419-8335-4f74-a026-53744ed7559e",
   "metadata": {},
   "outputs": [
    {
     "name": "stdout",
     "output_type": "stream",
     "text": [
      "red apple\n",
      "red banana\n",
      "red cherry\n",
      "big apple\n",
      "big banana\n",
      "big cherry\n",
      "tasty apple\n",
      "tasty banana\n",
      "tasty cherry\n"
     ]
    }
   ],
   "source": [
    "#Nested Loops\n",
    "#A nested loop is a loop inside a loop.\n",
    "#The \"inner loop\" will be executed one time for each iteration of the \"outer loop\":\n",
    "\n",
    "#Example\n",
    "adj = [\"red\", \"big\", \"tasty\"]\n",
    "fruits = [\"apple\", \"banana\", \"cherry\"]\n",
    "\n",
    "for x in adj:\n",
    "  for y in fruits:\n",
    "    print(x, y)"
   ]
  }
 ],
 "metadata": {
  "kernelspec": {
   "display_name": "Python 3 (ipykernel)",
   "language": "python",
   "name": "python3"
  },
  "language_info": {
   "codemirror_mode": {
    "name": "ipython",
    "version": 3
   },
   "file_extension": ".py",
   "mimetype": "text/x-python",
   "name": "python",
   "nbconvert_exporter": "python",
   "pygments_lexer": "ipython3",
   "version": "3.11.7"
  }
 },
 "nbformat": 4,
 "nbformat_minor": 5
}
