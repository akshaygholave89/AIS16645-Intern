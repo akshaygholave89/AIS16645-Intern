{
 "cells": [
  {
   "cell_type": "code",
   "execution_count": 18,
   "id": "9707e371-bce2-4cbc-b2d1-c7644bbfdcc2",
   "metadata": {},
   "outputs": [
    {
     "name": "stdout",
     "output_type": "stream",
     "text": [
      "The mean is: 56.0\n"
     ]
    }
   ],
   "source": [
    "#mean\n",
    "def cal_mean(A):\n",
    "    if len(A)==0:\n",
    "       return(0)\n",
    "    mean=sum(A)/len(A)\n",
    "    return(mean)\n",
    "A=[20,40,50,80,90]\n",
    "mean=cal_mean(A)\n",
    "print(\"The mean is:\",mean)"
   ]
  },
  {
   "cell_type": "code",
   "execution_count": 19,
   "id": "cc19fbb4-4bec-458d-a991-a87b113adbc5",
   "metadata": {},
   "outputs": [
    {
     "name": "stdout",
     "output_type": "stream",
     "text": [
      "Median: 65.0\n"
     ]
    }
   ],
   "source": [
    "#median\n",
    "def median(A):\n",
    "    s_n=sorted(A)\n",
    "    n=len(s_n)\n",
    "    if n % 2 ==0:\n",
    "        #If the number of elements is even, take the average of the middle two numbers\n",
    "        middle_left=s_n[n // 2 - 1]\n",
    "        middle_right=s_n[n // 2 ]\n",
    "        return (middle_left + middle_right) / 2\n",
    "    else:\n",
    "        #If  the number of  elements is odd, return the middle number\n",
    "        return sorted_numbers[n // 2]\n",
    "A=[20,40,50,80,90,100]\n",
    "print(\"Median:\", median(A))"
   ]
  },
  {
   "cell_type": "code",
   "execution_count": 16,
   "id": "0353c4fd-eef5-45f0-bf57-40425e538699",
   "metadata": {},
   "outputs": [
    {
     "name": "stdout",
     "output_type": "stream",
     "text": [
      "Mode: [20]\n"
     ]
    }
   ],
   "source": [
    "#mode\n",
    "def cal_mode(A):\n",
    "    counts = {}\n",
    "    for num in A:\n",
    "        if num in counts:\n",
    "            counts[num] += 1\n",
    "        else:\n",
    "            counts[num] = 1\n",
    "    max_count = max(counts.values())\n",
    "    mode= [num for num, count in counts.items() if count == max_count]\n",
    "    return mode\n",
    "A=[20,40,50,20,60,80,20,90,70]\n",
    "mode = cal_mode(A)\n",
    "print(\"Mode:\",mode)"
   ]
  },
  {
   "cell_type": "code",
   "execution_count": 15,
   "id": "0b6c84c2-fe3c-4888-923a-55be05e5bef7",
   "metadata": {},
   "outputs": [
    {
     "name": "stdout",
     "output_type": "stream",
     "text": [
      "Range: 70\n"
     ]
    }
   ],
   "source": [
    "# Range\n",
    "def cal_range(A):\n",
    "    min_value=min(A)\n",
    "    max_value=max(A)\n",
    "    return max_value - min_value\n",
    "A=[20,40,60,70,80,90]\n",
    "range=cal_range(A)\n",
    "print(\"Range:\",range)"
   ]
  },
  {
   "cell_type": "code",
   "execution_count": 14,
   "id": "f75f51d6-560c-4f75-aad0-d7908fc89569",
   "metadata": {},
   "outputs": [
    {
     "name": "stdout",
     "output_type": "stream",
     "text": [
      "var: 664.0\n"
     ]
    }
   ],
   "source": [
    "#variance\n",
    "def cal_variance(A):\n",
    "    if len(A)==0:\n",
    "        return(0)\n",
    "    mean=sum(A)/len(A)\n",
    "    s=[(x-mean)**2 for x in A]\n",
    "    var=sum(s)/len(A)\n",
    "    return(var)\n",
    "A=[20,40,50,80,90]\n",
    "var=cal_variance(A)\n",
    "print(\"var:\",var)\n"
   ]
  },
  {
   "cell_type": "code",
   "execution_count": 13,
   "id": "5d59456e-de71-4eac-a26c-0bf973c74974",
   "metadata": {},
   "outputs": [
    {
     "name": "stdout",
     "output_type": "stream",
     "text": [
      "Sd: 25.768197453450252\n"
     ]
    }
   ],
   "source": [
    "# standard deviation\n",
    "def cal_sd(A):\n",
    "    if len(A)==0:\n",
    "        return(0)\n",
    "    mean=sum(A)/len(A)\n",
    "    s=[(x-mean)**2 for x in A]\n",
    "    var=sum(s)/len(A)\n",
    "    sd=var**0.5\n",
    "    return(sd)\n",
    "A=[20,40,50,80,90]\n",
    "sd=cal_sd(A)\n",
    "print(\"Sd:\",sd)"
   ]
  },
  {
   "cell_type": "code",
   "execution_count": 5,
   "id": "f9086de2-0ff9-48b1-a943-bf48adf86162",
   "metadata": {},
   "outputs": [
    {
     "name": "stdout",
     "output_type": "stream",
     "text": [
      "Covariance: -16.7\n"
     ]
    }
   ],
   "source": [
    "# covariance\n",
    "def covariance(X,Y):\n",
    "    n = len(X)\n",
    "    mean_X = sum(X)/n\n",
    "    mean_Y = sum(Y)/n\n",
    "    cov = sum((X[i] - mean_X) * (Y[i]-mean_Y) for i in range(n)) / (n-1)\n",
    "    return cov\n",
    "\n",
    "#Example\n",
    "X=[5,6,12,15,19]\n",
    "Y=[20,45,25,36,21]\n",
    "cov=covariance(X,Y)\n",
    "print(\"Covariance:\",cov)"
   ]
  },
  {
   "cell_type": "code",
   "execution_count": 6,
   "id": "6f2c49f0-190e-4ab1-8d6b-ea8eed19cbeb",
   "metadata": {},
   "outputs": [
    {
     "name": "stdout",
     "output_type": "stream",
     "text": [
      "Correlation: -0.005483551434403713\n"
     ]
    }
   ],
   "source": [
    "#correlation \n",
    "def correlation(X,Y):\n",
    "    n=len(X)\n",
    "    mean_X=sum(X)/n\n",
    "    mean_Y=sum(Y)/n\n",
    "    a=sum((X[i]-mean_X)*(Y[i]-mean_Y) for i in range(n)) / (n-1)\n",
    "    b= (sum((x-mean_X)**2 for x in X)*(sum((y-mean_Y)**2 for y in Y))**0.5)\n",
    "    corr=a/b\n",
    "    return corr \n",
    "X=[5,6,12,15,19]\n",
    "Y=[20,45,25,36,21]\n",
    "corr=correlation(X,Y)\n",
    "print(\"Correlation:\",corr)"
   ]
  },
  {
   "cell_type": "code",
   "execution_count": 10,
   "id": "e6ec27b4-d4b8-432e-b714-4a302bdbe8fb",
   "metadata": {},
   "outputs": [
    {
     "name": "stdout",
     "output_type": "stream",
     "text": [
      "Skewness: -0.3631734744194305\n"
     ]
    }
   ],
   "source": [
    "#skewness\n",
    "def skewness(A):\n",
    "    n=len(A)\n",
    "    mean=sum(A)/n\n",
    "    a=sum((x-mean)**3 for x in A)/n\n",
    "    b=(sum((x-mean)**2 for x in A)/n)**(3/2)\n",
    "    skew=a/b\n",
    "    return(skew)\n",
    "A=[20,40,50,30,50]\n",
    "skew=skewness(A)\n",
    "print(\"Skewness:\",skew)\n"
   ]
  },
  {
   "cell_type": "code",
   "execution_count": 12,
   "id": "20f0264d-20d0-4eab-a1df-4314f0e9a1c5",
   "metadata": {},
   "outputs": [
    {
     "name": "stdout",
     "output_type": "stream",
     "text": [
      "Kurtosis: -1.3719723183391004\n"
     ]
    }
   ],
   "source": [
    "#kurtosis\n",
    "def kurtosis(A):\n",
    "    n=len(A)\n",
    "    mean=sum(A)/n\n",
    "    a=sum((x-mean)**4 for x in A)/n\n",
    "    b=(sum((x-mean)**2 for x in A)/n)**2\n",
    "    kurt=(a/b)-3\n",
    "    return(kurt)\n",
    "A=[20,40,50,30,50]\n",
    "kurt=kurtosis(A)\n",
    "print(\"Kurtosis:\",kurt)\n"
   ]
  }
 ],
 "metadata": {
  "kernelspec": {
   "display_name": "Python 3 (ipykernel)",
   "language": "python",
   "name": "python3"
  },
  "language_info": {
   "codemirror_mode": {
    "name": "ipython",
    "version": 3
   },
   "file_extension": ".py",
   "mimetype": "text/x-python",
   "name": "python",
   "nbconvert_exporter": "python",
   "pygments_lexer": "ipython3",
   "version": "3.11.7"
  }
 },
 "nbformat": 4,
 "nbformat_minor": 5
}
