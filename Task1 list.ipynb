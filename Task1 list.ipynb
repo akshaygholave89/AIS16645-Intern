{
 "cells": [
  {
   "cell_type": "code",
   "execution_count": 40,
   "id": "7234c0de-c2fc-4749-9e23-0ae59d32c405",
   "metadata": {},
   "outputs": [
    {
     "name": "stdout",
     "output_type": "stream",
     "text": [
      "['mango', 'pineapple', 'orange']\n"
     ]
    }
   ],
   "source": [
    "#List\n",
    "#Lists are used to store multiple items in a single variable.\n",
    "\n",
    "#Lists are one of 4 built-in data types in Python used to store collections of data, the other 3 are Tuple, Set, and Dictionary, all with different qualities and usage.\n",
    "\n",
    "#Lists are created using square brackets:\n",
    "\n",
    "#Example\n",
    "list = [\"mango\", \"pineapple\", \"orange\"]\n",
    "print(list)"
   ]
  },
  {
   "cell_type": "code",
   "execution_count": 3,
   "id": "db20c8e3-4170-4efe-b589-f7f1d66c344d",
   "metadata": {},
   "outputs": [],
   "source": [
    "#List Items\n",
    "#List items are ordered, changeable, and allow duplicate values.\n",
    "\n",
    "#List items are indexed, the first item has index [0], the second item has index [1] etc.\n",
    "\n",
    "#Ordered\n",
    "#When we say that lists are ordered, it means that the items have a defined order, and that order will not change.\n",
    "\n",
    "#If you add new items to a list, the new items will be placed at the end of the list.\n",
    "\n",
    "#Changeable\n",
    "#The list is changeable, meaning that we can change, add, and remove items in a list after it has been created."
   ]
  },
  {
   "cell_type": "code",
   "execution_count": 41,
   "id": "452c57f4-8172-4104-9d7a-eaa7ff38688c",
   "metadata": {},
   "outputs": [
    {
     "name": "stdout",
     "output_type": "stream",
     "text": [
      "['mango', 'pineapple', 'orange', 'apple', 'cherry']\n"
     ]
    }
   ],
   "source": [
    "#Allow Duplicates\n",
    "#Since lists are indexed, lists can have items with the same value:\n",
    "\n",
    "#Example\n",
    "list = [\"mango\", \"pineapple\", \"orange\", \"apple\", \"cherry\"]\n",
    "print(list)"
   ]
  },
  {
   "cell_type": "code",
   "execution_count": 42,
   "id": "52d86ed3-a2bd-4d5a-ad99-ea71bd59d5ce",
   "metadata": {},
   "outputs": [
    {
     "name": "stdout",
     "output_type": "stream",
     "text": [
      "3\n"
     ]
    }
   ],
   "source": [
    "#List Length\n",
    "#To determine how many items a list has, use the len() function:\n",
    "\n",
    "#Example\n",
    "list = [\"mango\", \"pineapple\", \"orange\"]\n",
    "print(len(list))"
   ]
  },
  {
   "cell_type": "code",
   "execution_count": 8,
   "id": "d5b3a397-9aaf-4ce3-abc4-3ccc50fbce31",
   "metadata": {},
   "outputs": [
    {
     "name": "stdout",
     "output_type": "stream",
     "text": [
      "['mango', 'pineapple', 'orange']\n",
      "[11, 25, 67, 39, 73]\n",
      "[True, False, False]\n"
     ]
    }
   ],
   "source": [
    "#List Items - Data Types\n",
    "#List items can be of any data type:\n",
    "\n",
    "#Example\n",
    "list1 = [\"mango\", \"pineapple\", \"orange\"]\n",
    "list2 = [11, 25, 67, 39, 73]\n",
    "list3 = [True, False, False]\n",
    "print(list1)\n",
    "print(list2)\n",
    "print(list3)"
   ]
  },
  {
   "cell_type": "code",
   "execution_count": 43,
   "id": "13399a36-4230-4949-a43d-fe06453d009d",
   "metadata": {},
   "outputs": [
    {
     "name": "stdout",
     "output_type": "stream",
     "text": [
      "['kyc', 34, True, 40, 'sale']\n"
     ]
    }
   ],
   "source": [
    "#A list can contain different data types:\n",
    "#A list with strings, integers and boolean value\n",
    "#Example\n",
    "list = [\"kyc\", 34, True, 40, \"sale\"]\n",
    "print(list)"
   ]
  },
  {
   "cell_type": "code",
   "execution_count": 1,
   "id": "ef240fee-a8d1-4e6b-9efb-712a3c21345f",
   "metadata": {},
   "outputs": [
    {
     "name": "stdout",
     "output_type": "stream",
     "text": [
      "<class 'list'>\n"
     ]
    }
   ],
   "source": [
    "#type()\n",
    "#From Python's perspective, lists are defined as objects with the data type 'list':\n",
    "\n",
    "#Example\n",
    "mylist = [\"mango\", \"pineapple\", \"orange\"]\n",
    "print(type(mylist))"
   ]
  },
  {
   "cell_type": "code",
   "execution_count": 2,
   "id": "752c1787-02f1-42aa-91de-a95b1231b527",
   "metadata": {},
   "outputs": [
    {
     "name": "stdout",
     "output_type": "stream",
     "text": [
      "['mango', 'pineapple', 'orange']\n"
     ]
    }
   ],
   "source": [
    "#The list() Constructor\n",
    "#It is also possible to use the list() constructor when creating a new list.\n",
    "\n",
    "#Example\n",
    "list = list((\"mango\", \"pineapple\", \"orange\")) # note the double round-brackets\n",
    "print(list)"
   ]
  }
 ],
 "metadata": {
  "kernelspec": {
   "display_name": "Python 3 (ipykernel)",
   "language": "python",
   "name": "python3"
  },
  "language_info": {
   "codemirror_mode": {
    "name": "ipython",
    "version": 3
   },
   "file_extension": ".py",
   "mimetype": "text/x-python",
   "name": "python",
   "nbconvert_exporter": "python",
   "pygments_lexer": "ipython3",
   "version": "3.11.7"
  }
 },
 "nbformat": 4,
 "nbformat_minor": 5
}
