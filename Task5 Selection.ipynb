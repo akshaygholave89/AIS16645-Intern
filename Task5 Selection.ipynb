{
 "cells": [
  {
   "cell_type": "code",
   "execution_count": 2,
   "id": "d7003a74-e1a9-4855-9a16-38cc130ee551",
   "metadata": {},
   "outputs": [
    {
     "name": "stdout",
     "output_type": "stream",
     "text": [
      "0    Aniruddha\n",
      "1       sayali\n",
      "2       Aakash\n",
      "3         Neha\n",
      "4       Pratik\n",
      "Name: Name, dtype: object\n",
      "        Name  Age\n",
      "0  Aniruddha   25\n",
      "1     sayali   30\n",
      "2     Aakash   28\n",
      "3       Neha   35\n",
      "4     Pratik   40\n",
      "     Name  Age Gender    City\n",
      "1  sayali   30      F    Pune\n",
      "3    Neha   35      F  Mumbai\n",
      "4  Pratik   40      M  Satara\n",
      "     Name  Age\n",
      "1  sayali   30\n",
      "2  Aakash   28\n",
      "     Name  Age\n",
      "1  sayali   30\n",
      "2  Aakash   28\n",
      "3    Neha   35\n"
     ]
    }
   ],
   "source": [
    "#Dataframe col,raw selection\n",
    "#Example\n",
    "import pandas as pd\n",
    "data={'Name':['Aniruddha','sayali','Aakash','Neha','Pratik'],'Age':[25,30,28,35,40],'Gender':['M','F','M','F','M'],'City':['Sangali','Pune','Baramati','Mumbai','Satara']}\n",
    "df=pd.DataFrame(data)\n",
    "\n",
    "#selecting a single column\n",
    "name_column = df['Name']\n",
    "print(name_column)\n",
    "\n",
    "#selecting a multiple columns\n",
    "subset = df[['Name','Age']]\n",
    "print(subset)\n",
    "\n",
    "# selecting rows based on condition\n",
    "subset_age_28plus = df[df['Age']> 28]\n",
    "print(subset_age_28plus)\n",
    "\n",
    "#selecting rows and columns using iloc ( index-based selection)\n",
    "subset_iloc = df.iloc[1:3,0:2] #Rows 1 and 2, columns 0 and 1\n",
    "print(subset_iloc)\n",
    "\n",
    "##selecting rows and columns using loc ( label-based selection)\n",
    "subset_loc = df.loc[1:3,['Name','Age']] #Rows 1 to 3, columns 'Name' and 'Age'\n",
    "print(subset_loc)"
   ]
  },
  {
   "cell_type": "code",
   "execution_count": 12,
   "id": "79c4f125-11f5-487e-a9bb-45851bb405f5",
   "metadata": {},
   "outputs": [
    {
     "name": "stdout",
     "output_type": "stream",
     "text": [
      "     Name  Age Gender    City\n",
      "1  sayali   30      F    Pune\n",
      "3    Neha   35      F  Mumbai\n",
      "4  Pratik   40      M  Satara\n",
      "        Name  Age Gender      City\n",
      "0  Aniruddha   25      M   Sangali\n",
      "2     Aakash   28      M  Baramati\n",
      "4     Pratik   40      M    Satara\n",
      "     Name  Age Gender    City\n",
      "4  Pratik   40      M  Satara\n"
     ]
    }
   ],
   "source": [
    "# Conditional selection:\n",
    "#Example\n",
    "import pandas as pd\n",
    "data={'Name':['Aniruddha','sayali','Aakash','Neha','Pratik'],'Age':[25,30,28,35,40],'Gender':['M','F','M','F','M'],'City':['Sangali','Pune','Baramati','Mumbai','Satara']}\n",
    "df=pd.DataFrame(data)\n",
    "\n",
    "#Filter rows where Age is greater than 28\n",
    "a=df[df['Age']>28]\n",
    "print(a)\n",
    "\n",
    "#Filter rows where Gender is Male\n",
    "b = df[df['Gender'] == 'M']\n",
    "print(b)\n",
    "\n",
    "#Combine multiple conditions using logical operators like & (AND) and  (OR)\n",
    "c = df[(df['Gender'] == 'M') & (df['Age']> 28)]\n",
    "print(c)"
   ]
  },
  {
   "cell_type": "code",
   "execution_count": 15,
   "id": "46ef2946-21d4-4553-9e13-1e69d5e2506a",
   "metadata": {},
   "outputs": [
    {
     "name": "stdout",
     "output_type": "stream",
     "text": [
      "     Name  Age Gender    City\n",
      "1  sayali   30      F    Pune\n",
      "3    Neha   35      F  Mumbai\n",
      "4  Pratik   40      M  Satara\n"
     ]
    }
   ],
   "source": [
    "#Query(): select row using query\n",
    "#Example\n",
    "import pandas as pd\n",
    "data={'Name':['Aniruddha','sayali','Aakash','Neha','Pratik'],'Age':[25,30,28,35,40],'Gender':['M','F','M','F','M'],'City':['Sangali','Pune','Baramati','Mumbai','Satara']}\n",
    "df=pd.DataFrame(data)\n",
    "subset =df.query('Age>28')\n",
    "print(subset)"
   ]
  },
  {
   "cell_type": "code",
   "execution_count": 21,
   "id": "9aa3d566-56af-4beb-96a6-3b2ad3070ccb",
   "metadata": {},
   "outputs": [
    {
     "name": "stdout",
     "output_type": "stream",
     "text": [
      "    A  B   C\n",
      "0  11  a   2\n",
      "1  13  b   4\n",
      "2  15  c   6\n",
      "3  17  d   8\n",
      "4  19  e  10\n"
     ]
    }
   ],
   "source": [
    "# Column add,delete,update:\n",
    "#Example\n",
    "# add new column C\n",
    "import pandas as pd\n",
    "data={'A':[11,13,15,17,19],'B':['a','b','c','d','e']}\n",
    "df=pd.DataFrame(data)\n",
    "df['C']=[2,4,6,8,10]\n",
    "print(df)\n"
   ]
  },
  {
   "cell_type": "code",
   "execution_count": 22,
   "id": "fdfd4f88-62bf-4849-addc-dc5c5806eaca",
   "metadata": {},
   "outputs": [
    {
     "name": "stdout",
     "output_type": "stream",
     "text": [
      "    A   C\n",
      "0  11   2\n",
      "1  13   4\n",
      "2  15   6\n",
      "3  17   8\n",
      "4  19  10\n"
     ]
    }
   ],
   "source": [
    "#Example\n",
    "#delete column B\n",
    "df=df.drop('B',axis=1)\n",
    "print(df)"
   ]
  },
  {
   "cell_type": "code",
   "execution_count": 24,
   "id": "e488d470-61ff-416e-ade5-5e4bb2dceac3",
   "metadata": {},
   "outputs": [
    {
     "name": "stdout",
     "output_type": "stream",
     "text": [
      "    A  B\n",
      "0   2  a\n",
      "1   4  b\n",
      "2   6  c\n",
      "3   8  d\n",
      "4  10  e\n"
     ]
    }
   ],
   "source": [
    "#Example\n",
    "#update values in column A\n",
    "import pandas as pd\n",
    "data={'A':[11,13,15,17,19],'B':['a','b','c','d','e']}\n",
    "df=pd.DataFrame(data)\n",
    "df['A']=[2,4,6,8,10]\n",
    "print(df)"
   ]
  },
  {
   "cell_type": "code",
   "execution_count": 26,
   "id": "7beb55e9-c7bd-4690-9c0b-3343c0add27d",
   "metadata": {},
   "outputs": [
    {
     "name": "stdout",
     "output_type": "stream",
     "text": [
      "    A\n",
      "B    \n",
      "a  11\n",
      "b  13\n",
      "c  15\n",
      "d  17\n"
     ]
    }
   ],
   "source": [
    "#Index: To set a column as the index of the dataframe,use the set_index() function.\n",
    "#Example\n",
    "# Set column 'B' as the index\n",
    "import pandas as pd\n",
    "data={'A':[11,13,15,17],'B':['a','b','c','d']}\n",
    "df = pd.DataFrame(data)\n",
    "df.set_index('B',inplace= True)\n",
    "print(df)\n"
   ]
  },
  {
   "cell_type": "code",
   "execution_count": 29,
   "id": "2e125ad6-c1eb-4a85-b0fa-0521d6a9263e",
   "metadata": {},
   "outputs": [
    {
     "name": "stdout",
     "output_type": "stream",
     "text": [
      "   index   A  B\n",
      "0      0  11  a\n",
      "1      1  13  b\n",
      "2      2  15  c\n",
      "3      3  17  d\n"
     ]
    }
   ],
   "source": [
    "#Removing Index :To remove the index and reset is to the default integer index,use the reset_index() function.\n",
    "#Example\n",
    "import pandas as pd\n",
    "data={'A':[11,13,15,17],'B':['a','b','c','d']}\n",
    "df = pd.DataFrame(data)\n",
    "df.reset_index(inplace=True)\n",
    "print(df)"
   ]
  },
  {
   "cell_type": "code",
   "execution_count": 31,
   "id": "13698f44-74fb-4e66-a34a-17ecf609cf68",
   "metadata": {},
   "outputs": [
    {
     "name": "stdout",
     "output_type": "stream",
     "text": [
      "    A  B\n",
      "0  11  a\n",
      "1  13  b\n",
      "2  15  c\n",
      "3  17  d\n"
     ]
    }
   ],
   "source": [
    "#Example\n",
    "import pandas as pd\n",
    "data={'A':[11,13,15,17],'B':['a','b','c','d']}\n",
    "df = pd.DataFrame(data)\n",
    "df.reset_index(drop=True,inplace=True)\n",
    "print(df)"
   ]
  },
  {
   "cell_type": "code",
   "execution_count": 33,
   "id": "0a00043e-8890-4244-92be-0887fd291303",
   "metadata": {},
   "outputs": [
    {
     "name": "stdout",
     "output_type": "stream",
     "text": [
      "    A   B\n",
      "0  28  34\n",
      "1  30  36\n",
      "2  32  38\n",
      "    A   B\n",
      "0  28  34\n",
      "1  30  36\n",
      "2  32  38\n"
     ]
    }
   ],
   "source": [
    "#Operation:\n",
    "#Adding using the add() method:\n",
    "import pandas as pd\n",
    "df1 = pd.DataFrame({'A':[11,12,13],'B':[14,15,16]})\n",
    "df2 = pd.DataFrame({'A':[17,18,19],'B':[20,21,22]})\n",
    "a=df1+df2\n",
    "print(a)\n",
    "b=df1.add(df2) # Alternative method\n",
    "print(b)"
   ]
  },
  {
   "cell_type": "code",
   "execution_count": 35,
   "id": "70b54e4a-aa35-4287-875c-dcd40d607a9f",
   "metadata": {},
   "outputs": [
    {
     "name": "stdout",
     "output_type": "stream",
     "text": [
      "   A  B\n",
      "0 -6 -6\n",
      "1 -6 -6\n",
      "2 -6 -6\n",
      "   A  B\n",
      "0 -6 -6\n",
      "1 -6 -6\n",
      "2 -6 -6\n"
     ]
    }
   ],
   "source": [
    "#Subtracting using the sub() method:\n",
    "import pandas as pd\n",
    "df1 = pd.DataFrame({'A':[11,12,13],'B':[14,15,16]})\n",
    "df2 = pd.DataFrame({'A':[17,18,19],'B':[20,21,22]})\n",
    "c=df1-df2\n",
    "print(c)\n",
    "d=df1.sub(df2) # Alternative method\n",
    "print(d)"
   ]
  },
  {
   "cell_type": "code",
   "execution_count": 37,
   "id": "b658a028-f804-4aab-9c61-c594fa40c2f5",
   "metadata": {},
   "outputs": [
    {
     "name": "stdout",
     "output_type": "stream",
     "text": [
      "     A    B\n",
      "0  187  280\n",
      "1  216  315\n",
      "2  247  352\n",
      "     A    B\n",
      "0  187  280\n",
      "1  216  315\n",
      "2  247  352\n"
     ]
    }
   ],
   "source": [
    "#Multiplication using the mul() method:\n",
    "import pandas as pd\n",
    "df1 = pd.DataFrame({'A':[11,12,13],'B':[14,15,16]})\n",
    "df2 = pd.DataFrame({'A':[17,18,19],'B':[20,21,22]})\n",
    "e=df1*df2\n",
    "print(e)\n",
    "f=df1.mul(df2) # Alternative method\n",
    "print(f)"
   ]
  },
  {
   "cell_type": "code",
   "execution_count": 38,
   "id": "cdec3f95-708d-4599-81b7-88c6dad41d1b",
   "metadata": {},
   "outputs": [
    {
     "name": "stdout",
     "output_type": "stream",
     "text": [
      "          A         B\n",
      "0  0.647059  0.700000\n",
      "1  0.666667  0.714286\n",
      "2  0.684211  0.727273\n",
      "          A         B\n",
      "0  0.647059  0.700000\n",
      "1  0.666667  0.714286\n",
      "2  0.684211  0.727273\n"
     ]
    }
   ],
   "source": [
    "# Division using the div() method\n",
    "import pandas as pd\n",
    "df1 = pd.DataFrame({'A':[11,12,13],'B':[14,15,16]})\n",
    "df2 = pd.DataFrame({'A':[17,18,19],'B':[20,21,22]})\n",
    "m=df1/df2\n",
    "print(m)\n",
    "n=df1.div(df2) # Alternative method\n",
    "print(n)"
   ]
  }
 ],
 "metadata": {
  "kernelspec": {
   "display_name": "Python 3 (ipykernel)",
   "language": "python",
   "name": "python3"
  },
  "language_info": {
   "codemirror_mode": {
    "name": "ipython",
    "version": 3
   },
   "file_extension": ".py",
   "mimetype": "text/x-python",
   "name": "python",
   "nbconvert_exporter": "python",
   "pygments_lexer": "ipython3",
   "version": "3.11.7"
  }
 },
 "nbformat": 4,
 "nbformat_minor": 5
}
