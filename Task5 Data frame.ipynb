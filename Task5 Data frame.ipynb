{
 "cells": [
  {
   "cell_type": "code",
   "execution_count": null,
   "id": "60eedb28-4eae-49cb-9fdc-f33713fae930",
   "metadata": {},
   "outputs": [],
   "source": [
    "#DataFrames\n",
    "#Data sets in Pandas are usually multi-dimensional tables, called DataFrames.\n",
    "\n",
    "#Series is like a column, a DataFrame is the whole table."
   ]
  },
  {
   "cell_type": "code",
   "execution_count": 3,
   "id": "313d7e14-5f6b-4292-b48a-07dbbe2f0cb9",
   "metadata": {},
   "outputs": [
    {
     "name": "stdout",
     "output_type": "stream",
     "text": [
      "   calories  duration\n",
      "0       470        70\n",
      "1       280        45\n",
      "2       690        65\n"
     ]
    }
   ],
   "source": [
    "#Example\n",
    "#Create a DataFrame from two Series:\n",
    "\n",
    "import pandas as pd\n",
    "\n",
    "data = {\n",
    "  \"calories\": [470, 280, 690],\n",
    "  \"duration\": [70, 45, 65]\n",
    "}\n",
    "\n",
    "myvar = pd.DataFrame(data)\n",
    "\n",
    "print(myvar)"
   ]
  },
  {
   "cell_type": "code",
   "execution_count": 4,
   "id": "25a40653-2678-4838-a88a-0082ba4ed0ef",
   "metadata": {},
   "outputs": [
    {
     "name": "stdout",
     "output_type": "stream",
     "text": [
      "   calories  duration\n",
      "0       470        70\n",
      "1       280        45\n",
      "2       690        65\n"
     ]
    }
   ],
   "source": [
    "#Example\n",
    "#Create a simple Pandas DataFrame:\n",
    "\n",
    "import pandas as pd\n",
    "\n",
    "data = {\n",
    "  \"calories\": [470, 280, 690],\n",
    "  \"duration\": [70, 45, 65]\n",
    "}\n",
    "\n",
    "#load data into a DataFrame object:\n",
    "df = pd.DataFrame(data)\n",
    "\n",
    "print(df) "
   ]
  },
  {
   "cell_type": "code",
   "execution_count": 5,
   "id": "67a7c760-d140-4c81-87a9-74f2f63b01d8",
   "metadata": {},
   "outputs": [
    {
     "name": "stdout",
     "output_type": "stream",
     "text": [
      "calories    280\n",
      "duration     45\n",
      "Name: 1, dtype: int64\n",
      "   calories  duration\n",
      "0       470        70\n",
      "1       280        45\n"
     ]
    }
   ],
   "source": [
    "#Locate Row\n",
    "#As you can see from the result above, the DataFrame is like a table with rows and columns.\n",
    "\n",
    "#Pandas use the loc attribute to return one or more specified row(s)\n",
    "\n",
    "#Example\n",
    "#Return row 0:\n",
    "\n",
    "#refer to the row index:\n",
    "print(df.loc[1])\n",
    "#use a list of indexes:\n",
    "print(df.loc[[0, 1]])"
   ]
  },
  {
   "cell_type": "code",
   "execution_count": 6,
   "id": "ce67f06f-9452-49a3-be24-5022db1b0824",
   "metadata": {},
   "outputs": [
    {
     "name": "stdout",
     "output_type": "stream",
     "text": [
      "      calories  duration\n",
      "day1       470        70\n",
      "day2       280        45\n",
      "day3       690        65\n"
     ]
    }
   ],
   "source": [
    "#Named Indexes\n",
    "#With the index argument, you can name your own indexes.\n",
    "\n",
    "#Example\n",
    "#Add a list of names to give each row a name:\n",
    "\n",
    "import pandas as pd\n",
    "\n",
    "data = {\n",
    "  \"calories\": [470, 280, 690],\n",
    "  \"duration\": [70, 45, 65]\n",
    "}\n",
    "\n",
    "df = pd.DataFrame(data, index = [\"day1\", \"day2\", \"day3\"])\n",
    "\n",
    "print(df) "
   ]
  },
  {
   "cell_type": "code",
   "execution_count": 7,
   "id": "b5f97825-e40c-4447-bece-497db9a9b0af",
   "metadata": {},
   "outputs": [
    {
     "name": "stdout",
     "output_type": "stream",
     "text": [
      "calories    280\n",
      "duration     45\n",
      "Name: day2, dtype: int64\n"
     ]
    }
   ],
   "source": [
    "#Locate Named Indexes\n",
    "#Use the named index in the loc attribute to return the specified row(s).\n",
    "\n",
    "#Example\n",
    "#Return \"day2\":\n",
    "\n",
    "#refer to the named index:\n",
    "print(df.loc[\"day2\"])"
   ]
  },
  {
   "cell_type": "code",
   "execution_count": 3,
   "id": "da1d781f-aec2-437a-b059-f8d32fbad50f",
   "metadata": {
    "scrolled": true
   },
   "outputs": [
    {
     "name": "stdout",
     "output_type": "stream",
     "text": [
      "     X   Y\n",
      "0   12  45\n",
      "1   23  32\n",
      "2   36  62\n",
      "3   53  52\n",
      "4   42  32\n",
      "5   62  65\n",
      "6   53  68\n",
      "7   23  88\n",
      "8   32  56\n",
      "9   12  66\n",
      "10  21  64\n",
      "11  25  35\n",
      "12  36  25\n",
      "13   5  12\n",
      "14   5  45\n",
      "15  36  25\n",
      "16   2  36\n",
      "17  32  32\n",
      "18  12  21\n"
     ]
    }
   ],
   "source": [
    "#Load Files Into a DataFrame\n",
    "#If your data sets are stored in a file, Pandas can load them into a DataFrame.\n",
    "\n",
    "#Example\n",
    "#Load a comma separated file (CSV file) into a DataFrame:\n",
    "\n",
    "import pandas as pd\n",
    "\n",
    "df = pd.read_csv('C:/Users/Yeshwant/Desktop/AK.csv')\n",
    "\n",
    "print(df) "
   ]
  },
  {
   "cell_type": "code",
   "execution_count": null,
   "id": "459da97a-f85d-491c-8a39-e6904cdcb4d8",
   "metadata": {},
   "outputs": [],
   "source": [
    "#Read CSV Files\n",
    "#A simple way to store big data sets is to use CSV files (comma separated files).\n",
    "\n",
    "#CSV files contains plain text and is a well know format that can be read by everyone including Pandas.\n",
    "\n",
    "#In our examples we will be using a CSV file called 'data.csv'.\n",
    "\n",
    "Download data.csv. or Open data.csv\n"
   ]
  },
  {
   "cell_type": "code",
   "execution_count": 4,
   "id": "d0fd933c-c1d5-4963-8adb-3b294aeca418",
   "metadata": {},
   "outputs": [
    {
     "name": "stdout",
     "output_type": "stream",
     "text": [
      "     X   Y\n",
      "0   12  45\n",
      "1   23  32\n",
      "2   36  62\n",
      "3   53  52\n",
      "4   42  32\n",
      "5   62  65\n",
      "6   53  68\n",
      "7   23  88\n",
      "8   32  56\n",
      "9   12  66\n",
      "10  21  64\n",
      "11  25  35\n",
      "12  36  25\n",
      "13   5  12\n",
      "14   5  45\n",
      "15  36  25\n",
      "16   2  36\n",
      "17  32  32\n",
      "18  12  21\n"
     ]
    }
   ],
   "source": [
    "#Example\n",
    "#Load the CSV into a DataFrame:\n",
    "\n",
    "import pandas as pd\n",
    "\n",
    "df = pd.read_csv(\"C:/Users/Yeshwant/Desktop/AK.csv\")\n",
    "\n",
    "print(df.to_string()) "
   ]
  },
  {
   "cell_type": "code",
   "execution_count": 5,
   "id": "d791d0aa-3f1e-4872-8dbc-2b04b921e313",
   "metadata": {},
   "outputs": [
    {
     "name": "stdout",
     "output_type": "stream",
     "text": [
      "     X   Y\n",
      "0   12  45\n",
      "1   23  32\n",
      "2   36  62\n",
      "3   53  52\n",
      "4   42  32\n",
      "5   62  65\n",
      "6   53  68\n",
      "7   23  88\n",
      "8   32  56\n",
      "9   12  66\n",
      "10  21  64\n",
      "11  25  35\n",
      "12  36  25\n",
      "13   5  12\n",
      "14   5  45\n",
      "15  36  25\n",
      "16   2  36\n",
      "17  32  32\n",
      "18  12  21\n"
     ]
    }
   ],
   "source": [
    "#Example\n",
    "#Print the DataFrame without the to_string() method:\n",
    "\n",
    "import pandas as pd\n",
    "\n",
    "df = pd.read_csv(\"C:/Users/Yeshwant/Desktop/AK.csv\")\n",
    "\n",
    "print(df) "
   ]
  },
  {
   "cell_type": "code",
   "execution_count": 6,
   "id": "8bc87f56-3472-4f8e-a415-edd135264bc8",
   "metadata": {},
   "outputs": [
    {
     "name": "stdout",
     "output_type": "stream",
     "text": [
      "60\n"
     ]
    }
   ],
   "source": [
    "#max_rows\n",
    "#The number of rows returned is defined in Pandas option settings.\n",
    "\n",
    "#You can check your system's maximum rows with the pd.options.display.max_rows statement.\n",
    "\n",
    "#Example\n",
    "#Check the number of maximum returned rows:\n",
    "\n",
    "import pandas as pd\n",
    "\n",
    "print(pd.options.display.max_rows) "
   ]
  },
  {
   "cell_type": "code",
   "execution_count": 7,
   "id": "fd6d2465-3eb4-40b2-8aed-bbf0cea4a1c9",
   "metadata": {},
   "outputs": [
    {
     "name": "stdout",
     "output_type": "stream",
     "text": [
      "     X   Y\n",
      "0   12  45\n",
      "1   23  32\n",
      "2   36  62\n",
      "3   53  52\n",
      "4   42  32\n",
      "5   62  65\n",
      "6   53  68\n",
      "7   23  88\n",
      "8   32  56\n",
      "9   12  66\n",
      "10  21  64\n",
      "11  25  35\n",
      "12  36  25\n",
      "13   5  12\n",
      "14   5  45\n",
      "15  36  25\n",
      "16   2  36\n",
      "17  32  32\n",
      "18  12  21\n"
     ]
    }
   ],
   "source": [
    "#Example\n",
    "#Increase the maximum number of rows to display the entire DataFrame:\n",
    "\n",
    "import pandas as pd\n",
    "\n",
    "pd.options.display.max_rows = 9999\n",
    "\n",
    "df = pd.read_csv(\"C:/Users/Yeshwant/Desktop/AK.csv\")\n",
    "\n",
    "print(df) \n"
   ]
  },
  {
   "cell_type": "code",
   "execution_count": 3,
   "id": "89680fba-1f64-47af-bea8-a83c32e0ce7a",
   "metadata": {},
   "outputs": [
    {
     "name": "stdout",
     "output_type": "stream",
     "text": [
      "     Duration  Pulse  Maxpulse  Calories\n",
      "0          60    110       130     409.1\n",
      "1          60    117       145     479.0\n",
      "2          60    103       135     340.0\n",
      "3          45    109       175     282.4\n",
      "4          45    117       148     406.0\n",
      "5          60    102       127     300.0\n",
      "6          60    110       136     374.0\n",
      "7          45    104       134     253.3\n",
      "8          30    109       133     195.1\n",
      "9          60     98       124     269.0\n",
      "10         60    103       147     329.3\n",
      "11         60    100       120     250.7\n",
      "12         60    106       128     345.3\n",
      "13         60    104       132     379.3\n",
      "14         60     98       123     275.0\n",
      "15         60     98       120     215.2\n",
      "16         60    100       120     300.0\n",
      "17         45     90       112       0.0\n",
      "18         60    103       123     323.0\n",
      "19         45     97       125     243.0\n",
      "20         60    108       131     364.2\n",
      "21         45    100       119     282.0\n",
      "22         60    130       101     300.0\n",
      "23         45    105       132     246.0\n",
      "24         60    102       126     334.5\n",
      "25         60    100       120     250.0\n",
      "26         60     92       118     241.0\n",
      "27         60    103       132       0.0\n",
      "28         60    100       132     280.0\n",
      "29         60    102       129     380.3\n",
      "30         60     92       115     243.0\n",
      "31         45     90       112     180.1\n",
      "32         60    101       124     299.0\n",
      "33         60     93       113     223.0\n",
      "34         60    107       136     361.0\n",
      "35         60    114       140     415.0\n",
      "36         60    102       127     300.0\n",
      "37         60    100       120     300.0\n",
      "38         60    100       120     300.0\n",
      "39         45    104       129     266.0\n",
      "40         45     90       112     180.1\n",
      "41         60     98       126     286.0\n",
      "42         60    100       122     329.4\n",
      "43         60    111       138     400.0\n",
      "44         60    111       131     397.0\n",
      "45         60     99       119     273.0\n",
      "46         60    109       153     387.6\n",
      "47         45    111       136     300.0\n",
      "48         45    108       129     298.0\n",
      "49         60    111       139     397.6\n",
      "50         60    107       136     380.2\n",
      "51         80    123       146     643.1\n",
      "52         60    106       130     263.0\n",
      "53         60    118       151     486.0\n",
      "54         30    136       175     238.0\n",
      "55         60    121       146     450.7\n",
      "56         60    118       121     413.0\n",
      "57         45    115       144     305.0\n",
      "58         20    153       172     226.4\n",
      "59         45    123       152     321.0\n",
      "60        210    108       160    1376.0\n",
      "61        160    110       137    1034.4\n",
      "62        160    109       135     853.0\n",
      "63         45    118       141     341.0\n",
      "64         20    110       130     131.4\n",
      "65        180     90       130     800.4\n",
      "66        150    105       135     873.4\n",
      "67        150    107       130     816.0\n",
      "68         20    106       136     110.4\n",
      "69        300    108       143    1500.2\n",
      "70        150     97       129    1115.0\n",
      "71         60    109       153     387.6\n",
      "72         90    100       127     700.0\n",
      "73        150     97       127     953.2\n",
      "74         45    114       146     304.0\n",
      "75         90     98       125     563.2\n",
      "76         45    105       134     251.0\n",
      "77         45    110       141     300.0\n",
      "78        120    100       130     500.4\n",
      "79        270    100       131    1729.0\n",
      "80         30    159       182     319.2\n",
      "81         45    149       169     344.0\n",
      "82         30    103       139     151.1\n",
      "83        120    100       130     500.0\n",
      "84         45    100       120     225.3\n",
      "85         30    151       170     300.0\n",
      "86         45    102       136     234.0\n",
      "87        120    100       157    1000.1\n",
      "88         45    129       103     242.0\n",
      "89         20     83       107      50.3\n",
      "90        180    101       127     600.1\n",
      "91         45    107       137       0.0\n",
      "92         30     90       107     105.3\n",
      "93         15     80       100      50.5\n",
      "94         20    150       171     127.4\n",
      "95         20    151       168     229.4\n",
      "96         30     95       128     128.2\n",
      "97         25    152       168     244.2\n",
      "98         30    109       131     188.2\n",
      "99         90     93       124     604.1\n",
      "100        20     95       112      77.7\n",
      "101        90     90       110     500.0\n",
      "102        90     90       100     500.0\n",
      "103        90     90       100     500.4\n",
      "104        30     92       108      92.7\n",
      "105        30     93       128     124.0\n",
      "106       180     90       120     800.3\n",
      "107        30     90       120      86.2\n",
      "108        90     90       120     500.3\n",
      "109       210    137       184    1860.4\n",
      "110        60    102       124     325.2\n",
      "111        45    107       124     275.0\n",
      "112        15    124       139     124.2\n",
      "113        45    100       120     225.3\n",
      "114        60    108       131     367.6\n",
      "115        60    108       151     351.7\n",
      "116        60    116       141     443.0\n",
      "117        60     97       122     277.4\n",
      "118        60    105       125       0.0\n",
      "119        60    103       124     332.7\n",
      "120        30    112       137     193.9\n",
      "121        45    100       120     100.7\n",
      "122        60    119       169     336.7\n",
      "123        60    107       127     344.9\n",
      "124        60    111       151     368.5\n",
      "125        60     98       122     271.0\n",
      "126        60     97       124     275.3\n",
      "127        60    109       127     382.0\n",
      "128        90     99       125     466.4\n",
      "129        60    114       151     384.0\n",
      "130        60    104       134     342.5\n",
      "131        60    107       138     357.5\n",
      "132        60    103       133     335.0\n",
      "133        60    106       132     327.5\n",
      "134        60    103       136     339.0\n",
      "135        20    136       156     189.0\n",
      "136        45    117       143     317.7\n",
      "137        45    115       137     318.0\n",
      "138        45    113       138     308.0\n",
      "139        20    141       162     222.4\n",
      "140        60    108       135     390.0\n",
      "141        60     97       127       0.0\n",
      "142        45    100       120     250.4\n",
      "143        45    122       149     335.4\n",
      "144        60    136       170     470.2\n",
      "145        45    106       126     270.8\n",
      "146        60    107       136     400.0\n",
      "147        60    112       146     361.9\n",
      "148        30    103       127     185.0\n",
      "149        60    110       150     409.4\n",
      "150        60    106       134     343.0\n",
      "151        60    109       129     353.2\n",
      "152        60    109       138     374.0\n",
      "153        30    150       167     275.8\n",
      "154        60    105       128     328.0\n",
      "155        60    111       151     368.5\n",
      "156        60     97       131     270.4\n",
      "157        60    100       120     270.4\n",
      "158        60    114       150     382.8\n",
      "159        30     80       120     240.9\n",
      "160        30     85       120     250.4\n",
      "161        45     90       130     260.4\n",
      "162        45     95       130     270.0\n",
      "163        45    100       140     280.9\n",
      "164        60    105       140     290.8\n",
      "165        60    110       145     300.0\n",
      "166        60    115       145     310.2\n",
      "167        75    120       150     320.4\n",
      "168        75    125       150     330.4\n"
     ]
    }
   ],
   "source": [
    "#Read_xlsx\n",
    "#Example\n",
    "#Load the xlsx into a DataFrame:\n",
    "\n",
    "import pandas as pd\n",
    "\n",
    "df = pd.read_excel('C:/Users/Yeshwant/Desktop/AG.xlsx')\n",
    "print(df.to_string())\n"
   ]
  },
  {
   "cell_type": "code",
   "execution_count": 3,
   "id": "2f00a31b-08ae-4b91-bf3c-14bcd39b784d",
   "metadata": {},
   "outputs": [
    {
     "name": "stdout",
     "output_type": "stream",
     "text": [
      "     Duration  Pulse  Maxpulse  Calories\n",
      "0          60    110       130     409.1\n",
      "1          60    117       145     479.0\n",
      "2          60    103       135     340.0\n",
      "3          45    109       175     282.4\n",
      "4          45    117       148     406.0\n",
      "..        ...    ...       ...       ...\n",
      "164        60    105       140     290.8\n",
      "165        60    110       145     300.0\n",
      "166        60    115       145     310.2\n",
      "167        75    120       150     320.4\n",
      "168        75    125       150     330.4\n",
      "\n",
      "[169 rows x 4 columns]\n"
     ]
    }
   ],
   "source": [
    "#Example\n",
    "#Print the DataFrame without the to_string() method:\n",
    "\n",
    "import pandas as pd\n",
    "\n",
    "df = pd.read_excel(\"C:/Users/Yeshwant/Desktop/AG.xlsx\")\n",
    "\n",
    "print(df) "
   ]
  },
  {
   "cell_type": "code",
   "execution_count": 4,
   "id": "61ffd5f6-52c0-4d02-96b4-8afd0d4b57e5",
   "metadata": {},
   "outputs": [
    {
     "name": "stdout",
     "output_type": "stream",
     "text": [
      "     Duration  Pulse  Maxpulse  Calories\n",
      "0          60    110       130     409.1\n",
      "1          60    117       145     479.0\n",
      "2          60    103       135     340.0\n",
      "3          45    109       175     282.4\n",
      "4          45    117       148     406.0\n",
      "5          60    102       127     300.0\n",
      "6          60    110       136     374.0\n",
      "7          45    104       134     253.3\n",
      "8          30    109       133     195.1\n",
      "9          60     98       124     269.0\n",
      "10         60    103       147     329.3\n",
      "11         60    100       120     250.7\n",
      "12         60    106       128     345.3\n",
      "13         60    104       132     379.3\n",
      "14         60     98       123     275.0\n",
      "15         60     98       120     215.2\n",
      "16         60    100       120     300.0\n",
      "17         45     90       112       0.0\n",
      "18         60    103       123     323.0\n",
      "19         45     97       125     243.0\n",
      "20         60    108       131     364.2\n",
      "21         45    100       119     282.0\n",
      "22         60    130       101     300.0\n",
      "23         45    105       132     246.0\n",
      "24         60    102       126     334.5\n",
      "25         60    100       120     250.0\n",
      "26         60     92       118     241.0\n",
      "27         60    103       132       0.0\n",
      "28         60    100       132     280.0\n",
      "29         60    102       129     380.3\n",
      "30         60     92       115     243.0\n",
      "31         45     90       112     180.1\n",
      "32         60    101       124     299.0\n",
      "33         60     93       113     223.0\n",
      "34         60    107       136     361.0\n",
      "35         60    114       140     415.0\n",
      "36         60    102       127     300.0\n",
      "37         60    100       120     300.0\n",
      "38         60    100       120     300.0\n",
      "39         45    104       129     266.0\n",
      "40         45     90       112     180.1\n",
      "41         60     98       126     286.0\n",
      "42         60    100       122     329.4\n",
      "43         60    111       138     400.0\n",
      "44         60    111       131     397.0\n",
      "45         60     99       119     273.0\n",
      "46         60    109       153     387.6\n",
      "47         45    111       136     300.0\n",
      "48         45    108       129     298.0\n",
      "49         60    111       139     397.6\n",
      "50         60    107       136     380.2\n",
      "51         80    123       146     643.1\n",
      "52         60    106       130     263.0\n",
      "53         60    118       151     486.0\n",
      "54         30    136       175     238.0\n",
      "55         60    121       146     450.7\n",
      "56         60    118       121     413.0\n",
      "57         45    115       144     305.0\n",
      "58         20    153       172     226.4\n",
      "59         45    123       152     321.0\n",
      "60        210    108       160    1376.0\n",
      "61        160    110       137    1034.4\n",
      "62        160    109       135     853.0\n",
      "63         45    118       141     341.0\n",
      "64         20    110       130     131.4\n",
      "65        180     90       130     800.4\n",
      "66        150    105       135     873.4\n",
      "67        150    107       130     816.0\n",
      "68         20    106       136     110.4\n",
      "69        300    108       143    1500.2\n",
      "70        150     97       129    1115.0\n",
      "71         60    109       153     387.6\n",
      "72         90    100       127     700.0\n",
      "73        150     97       127     953.2\n",
      "74         45    114       146     304.0\n",
      "75         90     98       125     563.2\n",
      "76         45    105       134     251.0\n",
      "77         45    110       141     300.0\n",
      "78        120    100       130     500.4\n",
      "79        270    100       131    1729.0\n",
      "80         30    159       182     319.2\n",
      "81         45    149       169     344.0\n",
      "82         30    103       139     151.1\n",
      "83        120    100       130     500.0\n",
      "84         45    100       120     225.3\n",
      "85         30    151       170     300.0\n",
      "86         45    102       136     234.0\n",
      "87        120    100       157    1000.1\n",
      "88         45    129       103     242.0\n",
      "89         20     83       107      50.3\n",
      "90        180    101       127     600.1\n",
      "91         45    107       137       0.0\n",
      "92         30     90       107     105.3\n",
      "93         15     80       100      50.5\n",
      "94         20    150       171     127.4\n",
      "95         20    151       168     229.4\n",
      "96         30     95       128     128.2\n",
      "97         25    152       168     244.2\n",
      "98         30    109       131     188.2\n",
      "99         90     93       124     604.1\n",
      "100        20     95       112      77.7\n",
      "101        90     90       110     500.0\n",
      "102        90     90       100     500.0\n",
      "103        90     90       100     500.4\n",
      "104        30     92       108      92.7\n",
      "105        30     93       128     124.0\n",
      "106       180     90       120     800.3\n",
      "107        30     90       120      86.2\n",
      "108        90     90       120     500.3\n",
      "109       210    137       184    1860.4\n",
      "110        60    102       124     325.2\n",
      "111        45    107       124     275.0\n",
      "112        15    124       139     124.2\n",
      "113        45    100       120     225.3\n",
      "114        60    108       131     367.6\n",
      "115        60    108       151     351.7\n",
      "116        60    116       141     443.0\n",
      "117        60     97       122     277.4\n",
      "118        60    105       125       0.0\n",
      "119        60    103       124     332.7\n",
      "120        30    112       137     193.9\n",
      "121        45    100       120     100.7\n",
      "122        60    119       169     336.7\n",
      "123        60    107       127     344.9\n",
      "124        60    111       151     368.5\n",
      "125        60     98       122     271.0\n",
      "126        60     97       124     275.3\n",
      "127        60    109       127     382.0\n",
      "128        90     99       125     466.4\n",
      "129        60    114       151     384.0\n",
      "130        60    104       134     342.5\n",
      "131        60    107       138     357.5\n",
      "132        60    103       133     335.0\n",
      "133        60    106       132     327.5\n",
      "134        60    103       136     339.0\n",
      "135        20    136       156     189.0\n",
      "136        45    117       143     317.7\n",
      "137        45    115       137     318.0\n",
      "138        45    113       138     308.0\n",
      "139        20    141       162     222.4\n",
      "140        60    108       135     390.0\n",
      "141        60     97       127       0.0\n",
      "142        45    100       120     250.4\n",
      "143        45    122       149     335.4\n",
      "144        60    136       170     470.2\n",
      "145        45    106       126     270.8\n",
      "146        60    107       136     400.0\n",
      "147        60    112       146     361.9\n",
      "148        30    103       127     185.0\n",
      "149        60    110       150     409.4\n",
      "150        60    106       134     343.0\n",
      "151        60    109       129     353.2\n",
      "152        60    109       138     374.0\n",
      "153        30    150       167     275.8\n",
      "154        60    105       128     328.0\n",
      "155        60    111       151     368.5\n",
      "156        60     97       131     270.4\n",
      "157        60    100       120     270.4\n",
      "158        60    114       150     382.8\n",
      "159        30     80       120     240.9\n",
      "160        30     85       120     250.4\n",
      "161        45     90       130     260.4\n",
      "162        45     95       130     270.0\n",
      "163        45    100       140     280.9\n",
      "164        60    105       140     290.8\n",
      "165        60    110       145     300.0\n",
      "166        60    115       145     310.2\n",
      "167        75    120       150     320.4\n",
      "168        75    125       150     330.4\n"
     ]
    }
   ],
   "source": [
    "#Example\n",
    "#Increase the maximum number of rows to display the entire DataFrame:\n",
    "\n",
    "import pandas as pd\n",
    "\n",
    "pd.options.display.max_rows = 9999\n",
    "\n",
    "df = pd.read_excel(\"C:/Users/Yeshwant/Desktop/AG.xlsx\")\n",
    "\n",
    "print(df) "
   ]
  },
  {
   "cell_type": "code",
   "execution_count": 5,
   "id": "a2add436-04f9-40fb-b971-397f41e72a14",
   "metadata": {},
   "outputs": [
    {
     "name": "stdout",
     "output_type": "stream",
     "text": [
      "    0   1   2\n",
      "0  11  32  23\n",
      "1  24  15  36\n"
     ]
    }
   ],
   "source": [
    "#Data frame creat using matrix\n",
    "#You can create a DataFrame using a matrix (a 2-dimensional array) in Pandas by passing the matrix to the pd.DataFrame() constructor. Here's an example:\n",
    "#Example\n",
    "import pandas as pd\n",
    "\n",
    "# Define a 2x3 matrix\n",
    "matrix_data = [\n",
    "    [11, 32, 23],\n",
    "    [24, 15, 36]\n",
    "]\n",
    "\n",
    "# Create a DataFrame from the matrix\n",
    "df = pd.DataFrame(matrix_data)\n",
    "\n",
    "print(df)"
   ]
  },
  {
   "cell_type": "code",
   "execution_count": 6,
   "id": "28ffb1c4-337a-4b8c-bafd-1ef147c5b121",
   "metadata": {},
   "outputs": [
    {
     "name": "stdout",
     "output_type": "stream",
     "text": [
      "       A   B   C\n",
      "Row1  12  62  43\n",
      "Row2  24  15  36\n",
      "Row3  87  28  39\n"
     ]
    }
   ],
   "source": [
    "#Custom Row and Column Labels:\n",
    "\n",
    "import pandas as pd\n",
    "\n",
    "data = [\n",
    "    [12, 62, 43],\n",
    "    [24, 15, 36],\n",
    "    [87, 28, 39]\n",
    "]\n",
    "row_labels = ['Row1', 'Row2', 'Row3']\n",
    "col_labels = ['A', 'B', 'C']\n",
    "\n",
    "df = pd.DataFrame(data, index=row_labels, columns=col_labels)\n",
    "print(df)"
   ]
  },
  {
   "cell_type": "code",
   "execution_count": 7,
   "id": "1ae6cc17-ac4d-40c4-adcd-4596ff04da34",
   "metadata": {},
   "outputs": [
    {
     "name": "stdout",
     "output_type": "stream",
     "text": [
      "   Number Letter  Boolean\n",
      "0       1      P    False\n",
      "1       2      Q    False\n",
      "2       3      R     True\n"
     ]
    }
   ],
   "source": [
    "#Mixed Data Types:\n",
    "\n",
    "import pandas as pd\n",
    "\n",
    "data = [\n",
    "    [1, 'P', False],\n",
    "    [2, 'Q', False],\n",
    "    [3, 'R', True]\n",
    "]\n",
    "\n",
    "df = pd.DataFrame(data, columns=['Number', 'Letter', 'Boolean'])\n",
    "print(df)"
   ]
  },
  {
   "cell_type": "code",
   "execution_count": 8,
   "id": "2cc19c20-24c5-4175-b64f-9dd87c35c905",
   "metadata": {},
   "outputs": [
    {
     "name": "stdout",
     "output_type": "stream",
     "text": [
      "    A       B\n",
      "    X   Y   X\n",
      "0  11  84  17\n",
      "1  32  25  38\n",
      "2  23  36  49\n"
     ]
    }
   ],
   "source": [
    "#DataFrame with MultiIndex:\n",
    "\n",
    "import pandas as pd\n",
    "\n",
    "data = {\n",
    "    ('A', 'X'): [11, 32, 23],\n",
    "    ('A', 'Y'): [84, 25, 36],\n",
    "    ('B', 'X'): [17, 38, 49]\n",
    "}\n",
    "\n",
    "df = pd.DataFrame(data)\n",
    "print(df)"
   ]
  },
  {
   "cell_type": "markdown",
   "id": "a105ad9e-7df9-42a3-9446-d79db3468a32",
   "metadata": {},
   "source": [
    "#Data frame creat using disctionary\n",
    "#Creating a DataFrame using a dictionary in pandas is a straightforward process. \n"
   ]
  },
  {
   "cell_type": "code",
   "execution_count": 9,
   "id": "2968fb31-b04d-434f-81bf-8dec900f6021",
   "metadata": {},
   "outputs": [
    {
     "name": "stdout",
     "output_type": "stream",
     "text": [
      "        Name  Age\n",
      "0      Rahul   22\n",
      "1      Akash   25\n",
      "2  Aniruddha   23\n"
     ]
    }
   ],
   "source": [
    "#DataFrame with Dictionaries\n",
    "#Exampole\n",
    "data = {\n",
    "    'Name': {0: 'Rahul', 1: 'Akash', 2: 'Aniruddha'},\n",
    "    'Age': {0: 22, 1: 25, 2: 23}\n",
    "}\n",
    "\n",
    "df = pd.DataFrame(data)\n",
    "print(df)"
   ]
  },
  {
   "cell_type": "code",
   "execution_count": 10,
   "id": "ba1defc9-8e37-4de2-a9c8-61a5937b703b",
   "metadata": {},
   "outputs": [
    {
     "name": "stdout",
     "output_type": "stream",
     "text": [
      "    Name                          Details\n",
      "0  Rahul      {'Age': 25, 'City': 'Pune'}\n",
      "1  Akash  {'Age': 30, 'City': 'Baramati'}\n"
     ]
    }
   ],
   "source": [
    "#Example \n",
    "#DataFrame with Nested Dictionaries\n",
    "data = {\n",
    "    'Name': {0: 'Rahul', 1: 'Akash'},\n",
    "    'Details': {0: {'Age': 25, 'City': 'Pune'}, 1: {'Age': 30, 'City': 'Baramati'}}\n",
    "}\n",
    "\n",
    "df = pd.DataFrame(data)\n",
    "print(df)"
   ]
  },
  {
   "cell_type": "code",
   "execution_count": 12,
   "id": "7db79f12-f212-43fd-9e69-b4892ddd395e",
   "metadata": {},
   "outputs": [
    {
     "name": "stdout",
     "output_type": "stream",
     "text": [
      "   ID       Name    Salary  Full_Time\n",
      "0   1      Rahul  50000.00       True\n",
      "1   2      Akash  60000.50      False\n",
      "2   3  Aniruddha  70000.75      False\n",
      "3   4       Ajay  80000.00       True\n"
     ]
    }
   ],
   "source": [
    "#DataFrame with Mixed Data Types\n",
    "\n",
    "data = {\n",
    "    'ID': [1, 2, 3, 4],\n",
    "    'Name': ['Rahul', 'Akash', 'Aniruddha', 'Ajay'],\n",
    "    'Salary': [50000.00, 60000.50, 70000.75, 80000.00],\n",
    "    'Full_Time': [True, False, False, True]\n",
    "}\n",
    "\n",
    "df = pd.DataFrame(data)\n",
    "print(df)"
   ]
  },
  {
   "cell_type": "code",
   "execution_count": 13,
   "id": "5444f0f2-bb55-4cf3-8747-cd95844a612c",
   "metadata": {},
   "outputs": [
    {
     "name": "stdout",
     "output_type": "stream",
     "text": [
      "        Date  Temperature\n",
      "0 2024-05-09         32.4\n",
      "1 2024-06-05         46.0\n",
      "2 2024-06-11         62.5\n"
     ]
    }
   ],
   "source": [
    "#DataFrame with DateTime Data\n",
    "\n",
    "data = {\n",
    "    'Date': pd.to_datetime(['2024-05-9', '2024-06-5', '2024-06-11']),\n",
    "    'Temperature': [32.4, 46.0, 62.5]\n",
    "}\n",
    "\n",
    "df = pd.DataFrame(data)\n",
    "print(df)"
   ]
  },
  {
   "cell_type": "code",
   "execution_count": 14,
   "id": "20d76c48-1ef5-441c-beba-fcb4cc5eb606",
   "metadata": {},
   "outputs": [
    {
     "name": "stdout",
     "output_type": "stream",
     "text": [
      "    Name  Age      City\n",
      "0  Rahul   25      Pune\n",
      "1  Akash   20  Baramati\n",
      "2   Ajay   29    Lonand\n"
     ]
    }
   ],
   "source": [
    "#Example\n",
    "#DataFrame from a List of Dictionaries\n",
    "\n",
    "data = [\n",
    "    {'Name': 'Rahul', 'Age': 25, 'City': 'Pune'},\n",
    "    {'Name': 'Akash', 'Age': 20, 'City': 'Baramati'},\n",
    "    {'Name': 'Ajay', 'Age': 29, 'City': 'Lonand'}\n",
    "]\n",
    "\n",
    "df = pd.DataFrame(data)\n",
    "print(df)"
   ]
  }
 ],
 "metadata": {
  "kernelspec": {
   "display_name": "Python 3 (ipykernel)",
   "language": "python",
   "name": "python3"
  },
  "language_info": {
   "codemirror_mode": {
    "name": "ipython",
    "version": 3
   },
   "file_extension": ".py",
   "mimetype": "text/x-python",
   "name": "python",
   "nbconvert_exporter": "python",
   "pygments_lexer": "ipython3",
   "version": "3.11.7"
  }
 },
 "nbformat": 4,
 "nbformat_minor": 5
}
