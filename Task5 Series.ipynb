{
 "cells": [
  {
   "cell_type": "code",
   "execution_count": 3,
   "id": "463b554b-5a5b-4505-8587-255b38f32cfb",
   "metadata": {},
   "outputs": [
    {
     "name": "stdout",
     "output_type": "stream",
     "text": [
      "0    12\n",
      "1    57\n",
      "2    32\n",
      "dtype: int64\n"
     ]
    }
   ],
   "source": [
    "#Series\n",
    "#A Pandas Series is like a column in a table.\n",
    "#It is a one-dimensional array holding data of any type.\n",
    "\n",
    "#Example\n",
    "#Create a simple Pandas Series from a list:\n",
    "\n",
    "import pandas as pd\n",
    "\n",
    "a = [12, 57, 32]\n",
    "\n",
    "myvar = pd.Series(a)\n",
    "\n",
    "print(myvar)"
   ]
  },
  {
   "cell_type": "code",
   "execution_count": 5,
   "id": "9c9eacf7-5b52-4589-9a76-d1d6d31a7bc4",
   "metadata": {},
   "outputs": [
    {
     "name": "stdout",
     "output_type": "stream",
     "text": [
      "57\n"
     ]
    }
   ],
   "source": [
    "#Example\n",
    "#Return the second value of the Series:\n",
    "\n",
    "print(myvar[1])"
   ]
  },
  {
   "cell_type": "code",
   "execution_count": 11,
   "id": "e3687f1a-ab4d-4a4c-9423-d1c65f8c2b31",
   "metadata": {},
   "outputs": [
    {
     "name": "stdout",
     "output_type": "stream",
     "text": [
      "x    12\n",
      "y    57\n",
      "z    32\n",
      "dtype: int64\n"
     ]
    }
   ],
   "source": [
    "#Create Labels\n",
    "#With the index argument, you can name your own labels.\n",
    "\n",
    "#Example\n",
    "#Create your own labels:\n",
    "\n",
    "import pandas as pd\n",
    "\n",
    "a = [12, 57, 32]\n",
    "\n",
    "myvar = pd.Series(a, index = [\"x\", \"y\", \"z\"])\n",
    "\n",
    "print(myvar)"
   ]
  },
  {
   "cell_type": "code",
   "execution_count": 13,
   "id": "680ea043-ea45-4703-8520-974303c2643f",
   "metadata": {},
   "outputs": [
    {
     "name": "stdout",
     "output_type": "stream",
     "text": [
      "day1    428\n",
      "day2    185\n",
      "day3    890\n",
      "dtype: int64\n"
     ]
    }
   ],
   "source": [
    "#Key/Value Objects as Series\n",
    "#You can also use a key/value object, like a dictionary, when creating a Series.\n",
    "\n",
    "#Example\n",
    "#Create a simple Pandas Series from a dictionary:\n",
    "\n",
    "import pandas as pd\n",
    "\n",
    "calories = {\"day1\": 428, \"day2\": 185, \"day3\": 890}\n",
    "\n",
    "myvar = pd.Series(calories)\n",
    "\n",
    "print(myvar)"
   ]
  },
  {
   "cell_type": "code",
   "execution_count": 15,
   "id": "f803da88-cdf8-4dc0-b5e3-6b60d720f305",
   "metadata": {},
   "outputs": [
    {
     "name": "stdout",
     "output_type": "stream",
     "text": [
      "day1    428\n",
      "day2    185\n",
      "dtype: int64\n"
     ]
    }
   ],
   "source": [
    "#To select only some of the items in the dictionary, use the index argument and specify only the items you want to include in the Series.\n",
    "\n",
    "#Example\n",
    "#Create a Series using only data from \"day1\" and \"day2\":\n",
    "\n",
    "import pandas as pd\n",
    "\n",
    "calories = {\"day1\": 428, \"day2\": 185, \"day3\": 890}\n",
    "\n",
    "myvar = pd.Series(calories, index = [\"day1\", \"day2\"])\n",
    "\n",
    "print(myvar)\n"
   ]
  },
  {
   "cell_type": "code",
   "execution_count": 18,
   "id": "541722db-f877-4781-bacb-21c6d6c83555",
   "metadata": {},
   "outputs": [
    {
     "name": "stdout",
     "output_type": "stream",
     "text": [
      "b    35\n",
      "c    66\n",
      "d    34\n",
      "e    43\n",
      "dtype: int64\n",
      "b    35\n",
      "c    66\n",
      "d    34\n",
      "e    43\n",
      "dtype: int64\n"
     ]
    }
   ],
   "source": [
    "#Operaions\n",
    "#slicing\n",
    "import  pandas as pd\n",
    "\n",
    "s=pd.Series([11,35,66,34,43], index=['a','b','c','d','e'])\n",
    "\n",
    "#slicing  by labels\n",
    "print(s['b':'e'])\n",
    "\n",
    "#slicing by position\n",
    "print(s[1:5])"
   ]
  },
  {
   "cell_type": "code",
   "execution_count": 20,
   "id": "fa83e546-994d-4cb4-85e4-5cb2b0f94378",
   "metadata": {},
   "outputs": [
    {
     "name": "stdout",
     "output_type": "stream",
     "text": [
      "0     5\n",
      "1     9\n",
      "2    13\n",
      "3    17\n",
      "dtype: int64\n",
      "0    3\n",
      "1    5\n",
      "2    7\n",
      "3    9\n",
      "dtype: int64\n",
      "0     6\n",
      "1    12\n",
      "2    18\n",
      "3    24\n",
      "dtype: int64\n"
     ]
    }
   ],
   "source": [
    "#Arithmatic operations\n",
    "s1=pd.Series([3,5,7,9])\n",
    "s2=pd.Series([2,4,6,8])\n",
    "#Element-wise addittion\n",
    "print(s1+s2)\n",
    "#Scalar multiplication\n",
    "print(s1*1)\n",
    "print(s2*3)"
   ]
  },
  {
   "cell_type": "code",
   "execution_count": 27,
   "id": "b27dcbd4-0668-498b-9193-952a037ac424",
   "metadata": {},
   "outputs": [
    {
     "name": "stdout",
     "output_type": "stream",
     "text": [
      "0    False\n",
      "1     True\n",
      "2     True\n",
      "3     True\n",
      "dtype: bool\n"
     ]
    }
   ],
   "source": [
    "# Boolean operations\n",
    "#Element-wise comparison\n",
    "s1=pd.Series([3,5,7,9])\n",
    "print(s1 > 4)\n"
   ]
  },
  {
   "cell_type": "code",
   "execution_count": 31,
   "id": "03804788-5c1b-433a-a348-43e72f10eca4",
   "metadata": {},
   "outputs": [
    {
     "name": "stdout",
     "output_type": "stream",
     "text": [
      "24\n",
      "6.0\n",
      "3\n",
      "9\n"
     ]
    }
   ],
   "source": [
    "#Aggregation and Reduction:\n",
    "s=pd.Series([3,5,7,9])\n",
    "print(s.sum())  # sum of all element\n",
    "print(s.mean()) # mean of all element\n",
    "print(s.min())  # minimum value\n",
    "print(s.max())  # maximum value"
   ]
  },
  {
   "cell_type": "code",
   "execution_count": 38,
   "id": "7c52c284-1897-4eb4-8fee-c345206f3481",
   "metadata": {},
   "outputs": [
    {
     "name": "stdout",
     "output_type": "stream",
     "text": [
      "0     3\n",
      "1     5\n",
      "4     7\n",
      "2     9\n",
      "3    11\n",
      "5    14\n",
      "dtype: int64\n",
      "0     3\n",
      "1     5\n",
      "2     9\n",
      "3    11\n",
      "4     7\n",
      "5    14\n",
      "dtype: int64\n",
      "0    1.0\n",
      "1    2.0\n",
      "2    4.0\n",
      "3    5.0\n",
      "4    3.0\n",
      "5    6.0\n",
      "dtype: float64\n"
     ]
    }
   ],
   "source": [
    "#sorting and Ranking:\n",
    "s=pd.Series([3,5,9,11,7,14])\n",
    "#sorting by  values:\n",
    "print(s.sort_values())\n",
    "\n",
    "#sorting by index:\n",
    "print(s.sort_index())\n",
    "\n",
    "#Ranking\n",
    "print(s.rank())"
   ]
  },
  {
   "cell_type": "code",
   "execution_count": 42,
   "id": "872acff1-2d9d-4b4f-a506-48dda95d1174",
   "metadata": {},
   "outputs": [
    {
     "name": "stdout",
     "output_type": "stream",
     "text": [
      "0    False\n",
      "1    False\n",
      "2     True\n",
      "3    False\n",
      "4    False\n",
      "dtype: bool\n",
      "0    11.0\n",
      "1    52.0\n",
      "2     0.0\n",
      "3    34.0\n",
      "4    65.0\n",
      "dtype: float64\n"
     ]
    }
   ],
   "source": [
    "#Handling Missing Data\n",
    "s=pd.Series([11,52,None,34,65])\n",
    "#check for missing values\n",
    "print(s.isnull())\n",
    "# fill missing values with a specific value\n",
    "print(s.fillna(0))"
   ]
  },
  {
   "cell_type": "code",
   "execution_count": 46,
   "id": "cc32ae9c-2d29-4558-8d17-38bd1e86e795",
   "metadata": {},
   "outputs": [
    {
     "name": "stdout",
     "output_type": "stream",
     "text": [
      "0     3.0\n",
      "1     5.0\n",
      "2     8.0\n",
      "3    10.0\n",
      "dtype: float64\n"
     ]
    }
   ],
   "source": [
    "#Element-wise functions:\n",
    "import pandas as pd\n",
    "#Creating a Series object\n",
    "s=pd.Series([9,25,64,100])\n",
    "print(s**0.5)\n"
   ]
  }
 ],
 "metadata": {
  "kernelspec": {
   "display_name": "Python 3 (ipykernel)",
   "language": "python",
   "name": "python3"
  },
  "language_info": {
   "codemirror_mode": {
    "name": "ipython",
    "version": 3
   },
   "file_extension": ".py",
   "mimetype": "text/x-python",
   "name": "python",
   "nbconvert_exporter": "python",
   "pygments_lexer": "ipython3",
   "version": "3.11.7"
  }
 },
 "nbformat": 4,
 "nbformat_minor": 5
}
